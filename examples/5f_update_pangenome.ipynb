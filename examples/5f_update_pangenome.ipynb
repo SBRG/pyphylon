{
 "cells": [
  {
   "cell_type": "code",
   "execution_count": 2,
   "id": "cba4e5fb-cfdc-40f2-87c0-ceb38b1111b2",
   "metadata": {},
   "outputs": [],
   "source": [
    "import os\n",
    "import pandas as pd\n",
    "\n",
    "from tqdm.notebook import tqdm\n",
    "\n",
    "from pyphylon.downloads import download_genomes_bvbrc\n",
    "from pyphylon.util import remove_empty_files, load_config"
   ]
  },
  {
   "cell_type": "code",
   "execution_count": 3,
   "id": "ec298849-d9d2-43cd-9d22-2dfa12218f1b",
   "metadata": {},
   "outputs": [],
   "source": [
    "CONFIG = load_config(\"config.yml\")\n",
    "WORKDIR = CONFIG[\"WORKDIR\"]\n",
    "SPECIES = CONFIG['PG_NAME']\n",
    "\n",
    "GENOMES_FILE = CONFIG[\"GENOMES_FILE\"].replace('/examples/', '') # to accomodate for running this in docker\n",
    "METADATA_FILE = CONFIG[\"METADATA_FILE\"].replace('/examples/', '') # to accomodate for running this in docker"
   ]
  },
  {
   "cell_type": "code",
   "execution_count": 4,
   "id": "00eed07e-9f04-4929-b258-a71fb0e9ac6b",
   "metadata": {},
   "outputs": [],
   "source": [
    "# Make output directories for new genomes\n",
    "UPDATE_PANGENOME = os.path.join(WORKDIR, \"update_pangenome\")\n",
    "RAW_GENOMES = os.path.join(UPDATE_PANGENOME, \"genomes\")\n",
    "if not os.path.exists(UPDATE_PANGENOME):\n",
    "    os.makedirs(UPDATE_PANGENOME)\n",
    "\n",
    "if not os.path.exists(RAW_GENOMES):\n",
    "    os.makedirs(RAW_GENOMES)"
   ]
  },
  {
   "cell_type": "code",
   "execution_count": 6,
   "id": "277ef2d9-2a6e-4a75-9cb5-9691d09a5285",
   "metadata": {},
   "outputs": [],
   "source": [
    "# New genomes to download, you would want to ensure your seqeunces passed quality control before you add them to your pangenome\n",
    "genomes = ['1314.1009', '1314.994', '1314.2849', '1314.2850', '1314.2848']\n",
    "\n",
    "summary = pd.read_csv(GENOMES_FILE, index_col=0, dtype={'genome_id':str}, sep='\\t')\n",
    "metadata = pd.read_csv(METADATA_FILE, index_col=0, dtype={'genome_id':str}, sep='\\t')\n",
    "\n",
    "metadata.loc[genomes].to_csv(UPDATE_PANGENOME + '/new_genomes_metadata.csv')"
   ]
  },
  {
   "cell_type": "code",
   "execution_count": 12,
   "id": "de7995f2-0de4-41fe-99c5-0479c5f56e04",
   "metadata": {},
   "outputs": [
    {
     "data": {
      "application/vnd.jupyter.widget-view+json": {
       "model_id": "ffc2450cf2824a04bcde18b0a69e4c17",
       "version_major": 2,
       "version_minor": 0
      },
      "text/plain": [
       "Processing filetypes...:   0%|          | 0/1 [00:00<?, ?it/s]"
      ]
     },
     "metadata": {},
     "output_type": "display_data"
    },
    {
     "data": {
      "application/vnd.jupyter.widget-view+json": {
       "model_id": "6663077109d04e749d86bd77ced8c5ec",
       "version_major": 2,
       "version_minor": 0
      },
      "text/plain": [
       "Downloading selected files...:   0%|          | 0/5 [00:00<?, ?it/s]"
      ]
     },
     "metadata": {},
     "output_type": "display_data"
    },
    {
     "name": "stderr",
     "output_type": "stream",
     "text": [
      "2025-02-28 14:37:34,050 - INFO - ftp://ftp.bvbrc.org/genomes/1314.1009/1314.1009.fna -> data/update_pangenome/genomes/fna/1314.1009.fna\n",
      "2025-02-28 14:37:45,876 - INFO - ftp://ftp.bvbrc.org/genomes/1314.994/1314.994.fna -> data/update_pangenome/genomes/fna/1314.994.fna\n",
      "2025-02-28 14:37:57,754 - INFO - ftp://ftp.bvbrc.org/genomes/1314.2849/1314.2849.fna -> data/update_pangenome/genomes/fna/1314.2849.fna\n",
      "2025-02-28 14:38:09,206 - INFO - ftp://ftp.bvbrc.org/genomes/1314.2850/1314.2850.fna -> data/update_pangenome/genomes/fna/1314.2850.fna\n",
      "2025-02-28 14:38:22,921 - INFO - ftp://ftp.bvbrc.org/genomes/1314.2848/1314.2848.fna -> data/update_pangenome/genomes/fna/1314.2848.fna\n"
     ]
    },
    {
     "data": {
      "application/vnd.jupyter.widget-view+json": {
       "model_id": "6fd11bab86f24d8ab7dd7f3f7d2df52b",
       "version_major": 2,
       "version_minor": 0
      },
      "text/plain": [
       "Removing bad genome files...: 0it [00:00, ?it/s]"
      ]
     },
     "metadata": {},
     "output_type": "display_data"
    }
   ],
   "source": [
    "bad_genomes = download_genomes_bvbrc(\n",
    "    genomes=genomes,\n",
    "    output_dir=RAW_GENOMES,\n",
    "    filetypes=['fna']\n",
    ")"
   ]
  },
  {
   "cell_type": "code",
   "execution_count": 13,
   "id": "26e4d3b9-18da-4e7f-9f6c-1adc661a7298",
   "metadata": {},
   "outputs": [
    {
     "data": {
      "application/vnd.jupyter.widget-view+json": {
       "model_id": "e39e8a21b8e549d3b867f5bbcf6c8009",
       "version_major": 2,
       "version_minor": 0
      },
      "text/plain": [
       "  0%|          | 0/1 [00:00<?, ?it/s]"
      ]
     },
     "metadata": {},
     "output_type": "display_data"
    }
   ],
   "source": [
    "empty_files = []\n",
    "for subdir in tqdm(os.listdir(RAW_GENOMES)):\n",
    "    subdir_path = os.path.join(RAW_GENOMES, subdir)\n",
    "    files = remove_empty_files(subdir_path)\n",
    "    empty_files.extend(files)"
   ]
  },
  {
   "cell_type": "code",
   "execution_count": 14,
   "id": "b69f1385-6483-4ab8-af32-655680955803",
   "metadata": {},
   "outputs": [
    {
     "name": "stdout",
     "output_type": "stream",
     "text": [
      "bad genomes: 0\n",
      "empty genomes: 0\n"
     ]
    }
   ],
   "source": [
    "print(f\"bad genomes: {len(bad_genomes)}\")\n",
    "print(f\"empty genomes: {len(empty_files)}\")"
   ]
  },
  {
   "cell_type": "markdown",
   "id": "6ba89885-f827-4449-a7bd-51c4949a1535",
   "metadata": {},
   "source": [
    "# Extract the representative sequences for each of your pangenome gene clusters (if you haven't alread)"
   ]
  },
  {
   "cell_type": "code",
   "execution_count": 18,
   "id": "382b8c0e-ebb4-44ba-8d0c-24274db6907f",
   "metadata": {},
   "outputs": [],
   "source": [
    "# function to extract the representative alleles for each gene cluster\n",
    "from pyphylon.blast_utils import *\n",
    "extract_reference_sequences(WORKDIR + 'processed/cd-hit-results', SPECIES, WORKDIR + 'processed/cd-hit-results/' + SPECIES + '_representative_sequences')"
   ]
  },
  {
   "cell_type": "markdown",
   "id": "65bf5697-ccbb-45a5-aaf4-e0eefca34dbd",
   "metadata": {},
   "source": [
    "# Run scripts to update your pangenome\n",
    "Run the \"add_strains_to_pangenome_workflow\" to annotate the strains with bakta and mlst, and then add them to the pangenome with CD-HIT-2D"
   ]
  },
  {
   "cell_type": "code",
   "execution_count": null,
   "id": "35757f90-1360-43a9-b84c-41fb8c7352ab",
   "metadata": {},
   "outputs": [],
   "source": []
  }
 ],
 "metadata": {
  "kernelspec": {
   "display_name": "Python pyphylon",
   "language": "python",
   "name": "pyphylontesting"
  },
  "language_info": {
   "codemirror_mode": {
    "name": "ipython",
    "version": 3
   },
   "file_extension": ".py",
   "mimetype": "text/x-python",
   "name": "python",
   "nbconvert_exporter": "python",
   "pygments_lexer": "ipython3",
   "version": "3.12.8"
  }
 },
 "nbformat": 4,
 "nbformat_minor": 5
}
