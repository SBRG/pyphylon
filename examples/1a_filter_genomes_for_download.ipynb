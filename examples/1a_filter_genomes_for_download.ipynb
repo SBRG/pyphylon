{
 "cells": [
  {
   "cell_type": "markdown",
   "metadata": {},
   "source": [
    "# 1a. Filter for high-quality genomes to download\n",
    "\n",
    "In this notebook, we will use __`pyphylon`__'s `download` and `qcqa` modules to select candidate genomes to download for pangenome generation.\n",
    "\n",
    "In this example we will select genomes for download from [BV-BRC](https://www.bv-brc.org/)"
   ]
  },
  {
   "cell_type": "markdown",
   "metadata": {},
   "source": [
    "## Setup"
   ]
  },
  {
   "cell_type": "code",
   "execution_count": null,
   "metadata": {},
   "outputs": [],
   "source": [
    "import pandas as pd\n",
    "import plotly.express as px\n",
    "import seaborn as sns\n",
    "import matplotlib\n",
    "from matplotlib import pyplot as plt\n",
    "\n",
    "from pyphylon.downloads import get_scaffold_n50_for_species\n",
    "from pyphylon.util import load_config\n",
    "import pyphylon.qcqa as qcqa\n",
    "import os"
   ]
  },
  {
   "cell_type": "code",
   "execution_count": null,
   "metadata": {},
   "outputs": [],
   "source": [
    "plt.rcParams[\"figure.dpi\"] = 200\n",
    "sns.set_palette(\"deep\")\n",
    "sns.set_context(\"paper\")\n",
    "sns.set_style(\"whitegrid\")\n"
   ]
  },
  {
   "cell_type": "code",
   "execution_count": null,
   "metadata": {},
   "outputs": [],
   "source": [
    "CONFIG = load_config(\"config.yml\")\n",
    "WORKDIR = CONFIG[\"WORKDIR\"]\n",
    "SPECIES_NAME = CONFIG[\"SPECIES_NAME\"]\n",
    "GENOMES_FILE = CONFIG[\"GENOMES_FILE\"].replace('/examples/', '') # to accomodate for running this in docker\n",
    "METADATA_FILE = CONFIG[\"METADATA_FILE\"].replace('/examples/', '') # to accomodate for running this in docker\n",
    "DEBUG = CONFIG[\"DEBUG\"]"
   ]
  },
  {
   "cell_type": "code",
   "execution_count": null,
   "metadata": {},
   "outputs": [],
   "source": [
    "summary = pd.read_csv(GENOMES_FILE, index_col=0, dtype={'genome_id':str}, sep='\\t')\n",
    "metadata = pd.read_csv(METADATA_FILE, index_col=0, dtype={'genome_id':str}, sep='\\t')\n",
    "\n",
    "summary.shape"
   ]
  },
  {
   "cell_type": "code",
   "execution_count": null,
   "metadata": {},
   "outputs": [],
   "source": [
    "summary.genome_name.str.contains(SPECIES_NAME).sum()"
   ]
  },
  {
   "cell_type": "markdown",
   "metadata": {},
   "source": [
    "# Filter metadata for species of interest"
   ]
  },
  {
   "cell_type": "code",
   "execution_count": null,
   "metadata": {},
   "outputs": [],
   "source": [
    "# How many strains of the species/genus are available\n",
    "species_summary = qcqa.filter_by_species(summary, CONFIG['SPECIES_NAME'])\n",
    "metadata_summary = qcqa.filter_by_species(metadata, CONFIG['SPECIES_NAME'])\n",
    "\n",
    "display(\n",
    "    species_summary.shape,\n",
    "    species_summary.head()\n",
    ")\n"
   ]
  },
  {
   "cell_type": "code",
   "execution_count": null,
   "metadata": {},
   "outputs": [],
   "source": []
  },
  {
   "cell_type": "markdown",
   "metadata": {},
   "source": [
    "## Plot unfiltered dataset"
   ]
  },
  {
   "cell_type": "code",
   "execution_count": null,
   "metadata": {},
   "outputs": [],
   "source": [
    "# Find the scaffold N50 score of the reference genome for the organism of interest\n",
    "# Either visit the NCBI website or retrieve it using the following method (~20 seconds)\n",
    "scaffold_n50 = get_scaffold_n50_for_species(species_summary.taxon_id.mode().values[0])\n",
    "scaffold_n50"
   ]
  },
  {
   "cell_type": "code",
   "execution_count": null,
   "metadata": {},
   "outputs": [],
   "source": [
    "# Initial unfiltered strain plot\n",
    "h = sns.jointplot(\n",
    "    data=species_summary,\n",
    "    x=\"genome_length\",\n",
    "    y=\"patric_cds\",\n",
    "    hue=\"genome_status\",\n",
    "    alpha=0.75,\n",
    "    height=4\n",
    ")\n",
    "\n",
    "h.ax_joint.legend(\n",
    "    title='BV-BRC\\nstrain type',\n",
    ")\n",
    "\n",
    "h.ax_joint.set_xlabel(\"genome length\")\n",
    "h.ax_joint.set_ylabel(\"BV-BRC predicted gene count\")\n",
    "plt.show()"
   ]
  },
  {
   "cell_type": "code",
   "execution_count": null,
   "metadata": {},
   "outputs": [],
   "source": [
    "# Find reference strain N50 value from NCBI Genome and multiply by 0.85\n",
    "# If your species/genus has multiple reference strains, pick the smallest by genome length\n",
    "\n",
    "# Only applies for Complete sequences\n",
    "species_complete_summary = species_summary[species_summary.genome_status == 'Complete']\n",
    "\n",
    "fig, ax = plt.subplots()\n",
    "\n",
    "# Set threshold as 0.85 * Scaffold N50 score\n",
    "species_ref_n50 = scaffold_n50\n",
    "min_thresh_n50 = int(0.85 * species_ref_n50)\n",
    "\n",
    "# Most (if not all) Complete sequences pass this threshold\n",
    "sns.histplot(species_complete_summary.contig_n50.dropna().astype('int'), ax=ax)\n",
    "plt.axvline(x=min_thresh_n50, color='#ff00ff', linestyle='--')"
   ]
  },
  {
   "cell_type": "markdown",
   "metadata": {},
   "source": [
    "## Initial Filtration Report"
   ]
  },
  {
   "cell_type": "code",
   "execution_count": null,
   "metadata": {},
   "outputs": [],
   "source": [
    "# Complete sequences get filtered by their N50 and L50 scores\n",
    "# Other WGS sequences get filtered by their contig count and CheckM\n",
    "# contaminaion & completeness metrics\n",
    "filtered_species_summary, df_filtration = qcqa.filter_by_genome_quality(\n",
    "    species_summary,\n",
    "    min_thresh_n50=min_thresh_n50,\n",
    "    max_contig=None,\n",
    "    contamination_cutoff=None,\n",
    "    completeness_cutoff=None,\n",
    "    return_stats=True,\n",
    ")\n",
    "\n",
    "display(\n",
    "    f'Filtered Strains:',\n",
    "    filtered_species_summary.shape,\n",
    "    f'------------------------------',\n",
    "    f'Filtration Report',\n",
    "    df_filtration\n",
    ")"
   ]
  },
  {
   "cell_type": "code",
   "execution_count": null,
   "metadata": {},
   "outputs": [],
   "source": [
    "# Same initial plot but with only (first-pass) filtered strains\n",
    "# For this plot, make sure your WGS sequences form a nice line\n",
    "# Complete sequences may be all over the place\n",
    "\n",
    "# For this example, we don't need to filter our data based on the\n",
    "# distribution we see below\n",
    "\n",
    "h = sns.jointplot(\n",
    "    data=filtered_species_summary,\n",
    "    x=\"genome_length\",\n",
    "    y=\"patric_cds\",\n",
    "    hue=\"genome_status\",\n",
    "    alpha=0.75,\n",
    "    height=4\n",
    ")\n",
    "\n",
    "h.ax_joint.legend(\n",
    " title='BV-BRC\\nstrain type'\n",
    ")\n",
    "\n",
    "h.ax_joint.set_xlabel(\"genome length\")\n",
    "h.ax_joint.set_ylabel(\"BV-BRC predicted gene count\")\n",
    "plt.show()"
   ]
  },
  {
   "cell_type": "code",
   "execution_count": null,
   "metadata": {},
   "outputs": [],
   "source": [
    "# Ensure GC content makes sense\n",
    "# Remove any big outliers\n",
    "# (in this case nothing needs filtering)\n",
    "\n",
    "h = sns.jointplot(\n",
    "    data=filtered_species_summary,\n",
    "    x=\"gc_content\",\n",
    "    y=\"contigs\",\n",
    "    hue=\"genome_status\",\n",
    "    alpha=0.75,\n",
    "    height=4\n",
    ")\n",
    "\n",
    "h.ax_joint.legend(\n",
    "    title='BV-BRC\\nstrain type',\n",
    "    bbox_to_anchor=(1.45,1.4)\n",
    ")\n",
    "\n",
    "h.ax_joint.set_xlabel(\"GC Content\")\n",
    "h.ax_joint.set_ylabel(\"number of contigs\")\n",
    "plt.show()"
   ]
  },
  {
   "cell_type": "markdown",
   "metadata": {},
   "source": [
    "## Save (first-pass) filtered genome info files for download"
   ]
  },
  {
   "cell_type": "code",
   "execution_count": null,
   "metadata": {},
   "outputs": [],
   "source": [
    "if DEBUG:\n",
    "    filtered_species_summary = filtered_species_summary[:50]\n",
    "    # filtered_species_metadata = filtered_species_metadata.loc[species_summary[:10].index,:]"
   ]
  },
  {
   "cell_type": "code",
   "execution_count": null,
   "metadata": {},
   "outputs": [],
   "source": [
    "filtered_species_metadata = metadata.loc[filtered_species_summary.index]\n",
    "filtered_species_metadata"
   ]
  },
  {
   "cell_type": "code",
   "execution_count": null,
   "metadata": {},
   "outputs": [],
   "source": [
    "newpath = os.path.join(WORKDIR, 'interim') \n",
    "if not os.path.exists(newpath):\n",
    "    os.makedirs(newpath)\n",
    "filtered_species_summary.to_csv(os.path.join(WORKDIR, 'interim/genome_summary_1a.csv'))\n",
    "filtered_species_metadata.to_csv(os.path.join(WORKDIR,'interim/genome_metadata_1a.csv'))"
   ]
  },
  {
   "cell_type": "code",
   "execution_count": null,
   "metadata": {},
   "outputs": [],
   "source": [
    "df_filtration.to_csv(os.path.join(WORKDIR, 'interim/df_filtration_1a.csv'))"
   ]
  }
 ],
 "metadata": {
  "kernelspec": {
   "display_name": "pyphylon",
   "language": "python",
   "name": "python3"
  },
  "language_info": {
   "codemirror_mode": {
    "name": "ipython",
    "version": 3
   },
   "file_extension": ".py",
   "mimetype": "text/x-python",
   "name": "python",
   "nbconvert_exporter": "python",
   "pygments_lexer": "ipython3",
   "version": "3.11.11"
  }
 },
 "nbformat": 4,
 "nbformat_minor": 2
}
