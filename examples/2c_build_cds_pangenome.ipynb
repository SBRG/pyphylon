{
 "cells": [
  {
   "cell_type": "code",
   "execution_count": null,
   "metadata": {},
   "outputs": [],
   "source": [
    "import pickle\n",
    "import os\n",
    "\n",
    "import pandas as pd\n",
    "from tqdm.notebook import tqdm\n",
    "\n",
    "from matplotlib import pyplot as plt\n",
    "import seaborn as sns\n",
    "import plotly.express as px\n",
    "import pandas as pd\n",
    "plt.rcParams[\"figure.dpi\"] = 200\n",
    "sns.set_palette(\"deep\")\n",
    "sns.set_context(\"paper\")\n",
    "sns.set_style(\"whitegrid\")\n",
    "from pyphylon.util import load_config"
   ]
  },
  {
   "cell_type": "code",
   "execution_count": null,
   "metadata": {},
   "outputs": [],
   "source": [
    "CONFIG = load_config(\"config.yml\")\n",
    "WORKDIR = CONFIG[\"WORKDIR\"]\n",
    "SPECIES = CONFIG[\"PG_NAME\"]"
   ]
  },
  {
   "cell_type": "code",
   "execution_count": null,
   "metadata": {},
   "outputs": [],
   "source": [
    "import gzip"
   ]
  },
  {
   "cell_type": "code",
   "execution_count": null,
   "metadata": {},
   "outputs": [],
   "source": [
    "mash_scrubbed_metadata = pd.read_csv(os.path.join(WORKDIR, 'interim/mash_scrubbed_species_metadata_2b.csv'), index_col=0, dtype='object')\n",
    "\n",
    "display(\n",
    "    mash_scrubbed_metadata.shape,\n",
    "    mash_scrubbed_metadata.head()\n",
    ")"
   ]
  },
  {
   "cell_type": "code",
   "execution_count": null,
   "metadata": {},
   "outputs": [],
   "source": [
    "# List of bakta-annotated faa files (needed for CD-HIT)\n",
    "# bakta is a software that annotate bacterial genomes, MAGs and plasmids\n",
    "# MAGs: metagenome-assembled genome, genetic material that's directly from environmental samples (collective material from the microbial communities)\n",
    "# advantage of bakta, dbxref-rich, database cross reference\n",
    "# sORF: small open reading frame, has a AUG and a stop codon, short sequences that have the potential to encode small peptides\n",
    "\n",
    "BAKTA = os.path.join(WORKDIR, 'processed/bakta/')\n",
    "\n",
    "bakta_faa_paths = [\n",
    "    os.path.join(BAKTA, bakta_folder, bakta_folder+'.faa') \n",
    "    for bakta_folder in os.listdir(BAKTA)\n",
    "]\n",
    "\n",
    "bakta_faa_paths[:5]"
   ]
  },
  {
   "cell_type": "code",
   "execution_count": null,
   "metadata": {},
   "outputs": [],
   "source": [
    "# Sanity check\n",
    "for path in tqdm(bakta_faa_paths):\n",
    "    assert os.path.isfile(path)"
   ]
  },
  {
   "cell_type": "code",
   "execution_count": null,
   "metadata": {},
   "outputs": [],
   "source": [
    "# ensure that bakta paths are in our PG\n",
    "real_paths = []\n",
    "for f in bakta_faa_paths:\n",
    "    for i in mash_scrubbed_metadata['genome_id'].tolist():\n",
    "        if i in f:\n",
    "            print(f)    \n",
    "            real_paths.append(f)"
   ]
  },
  {
   "cell_type": "code",
   "execution_count": null,
   "metadata": {},
   "outputs": [],
   "source": [
    "len(real_paths)"
   ]
  },
  {
   "cell_type": "code",
   "execution_count": null,
   "metadata": {},
   "outputs": [],
   "source": [
    "from pyphylon.pangenome import build_cds_pangenome\n",
    "\n",
    "df_alleles, df_genes, header_to_allele = build_cds_pangenome(\n",
    "    genome_faa_paths=real_paths,\n",
    "    output_dir=os.path.join(WORKDIR, 'processed/cd-hit-results/'),\n",
    "    name=SPECIES,\n",
    "    cdhit_args={'-n': 5, '-c':0.8, '-aL':0.8, '-T': 0, '-M': 0},\n",
    "    fastasort_path=None,\n",
    "    save_csv=False\n",
    ")"
   ]
  },
  {
   "cell_type": "code",
   "execution_count": null,
   "metadata": {},
   "outputs": [],
   "source": [
    "df_genes.sum()"
   ]
  },
  {
   "cell_type": "code",
   "execution_count": null,
   "metadata": {},
   "outputs": [],
   "source": [
    "sns.clustermap(df_genes.fillna(0).transpose())"
   ]
  }
 ],
 "metadata": {
  "kernelspec": {
   "display_name": "pyphylon",
   "language": "python",
   "name": "python3"
  },
  "language_info": {
   "codemirror_mode": {
    "name": "ipython",
    "version": 3
   },
   "file_extension": ".py",
   "mimetype": "text/x-python",
   "name": "python",
   "nbconvert_exporter": "python",
   "pygments_lexer": "ipython3",
   "version": "3.11.11"
  }
 },
 "nbformat": 4,
 "nbformat_minor": 2
}
