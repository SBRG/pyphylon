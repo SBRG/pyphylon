{
 "cells": [
  {
   "cell_type": "code",
   "execution_count": 1,
   "id": "4d897cd1-38de-4352-8ff2-b8a78e46e351",
   "metadata": {},
   "outputs": [],
   "source": [
    "import os\n",
    "import pandas as pd\n",
    "\n",
    "from tqdm.notebook import tqdm\n",
    "\n",
    "from pyphylon.downloads import download_genomes_bvbrc\n",
    "from pyphylon.util import load_config"
   ]
  },
  {
   "cell_type": "code",
   "execution_count": 2,
   "id": "87601db5-4179-4efd-bff3-19929b55bf5f",
   "metadata": {},
   "outputs": [],
   "source": [
    "CONFIG = load_config(\"config.yml\")\n",
    "WORKDIR = CONFIG[\"WORKDIR\"]\n",
    "SPECIES = CONFIG[\"PG_NAME\"]"
   ]
  },
  {
   "cell_type": "markdown",
   "id": "ccbdfdd0-4e4c-45bf-a4c0-704f9149be1c",
   "metadata": {},
   "source": [
    "# Select Strains for Affinity Inference\n",
    "\n",
    "Select strains for which to infer affinities. Place these strains as .fna files into the directory `/examples/data/inferring_affinities/input_strains`.\n",
    "\n",
    "Below, 5 strains are downloaded as an example."
   ]
  },
  {
   "cell_type": "code",
   "execution_count": 3,
   "id": "29451274-9257-4aa6-8e49-094b62d01252",
   "metadata": {},
   "outputs": [],
   "source": [
    "# Make output directories\n",
    "INFERRING_AFFINITIES = os.path.join(WORKDIR, 'inferring_affinities')\n",
    "OUTPUT_DIR = os.path.join(INFERRING_AFFINITIES, \"input_strains\")\n",
    "if not os.path.exists(INFERRING_AFFINITIES):\n",
    "    os.makedirs(INFERRING_AFFINITIES)\n",
    "\n",
    "if not os.path.exists(OUTPUT_DIR):\n",
    "    os.makedirs(OUTPUT_DIR)"
   ]
  },
  {
   "cell_type": "code",
   "execution_count": 4,
   "id": "2c1e423f-64d4-4e16-939a-db78fc5051f6",
   "metadata": {},
   "outputs": [],
   "source": [
    "genomes_to_download = [\n",
    "'1115817.3',\n",
    "'1115814.3',\n",
    "'1115827.3',\n",
    "'1115819.3',\n",
    "'1115812.3',\n",
    "]"
   ]
  },
  {
   "cell_type": "code",
   "execution_count": 5,
   "id": "ce1b54fe-6399-475c-b043-9418dd020282",
   "metadata": {},
   "outputs": [
    {
     "data": {
      "application/vnd.jupyter.widget-view+json": {
       "model_id": "27e6ccec6c594288848be63655b3db6e",
       "version_major": 2,
       "version_minor": 0
      },
      "text/plain": [
       "Processing filetypes...:   0%|          | 0/1 [00:00<?, ?it/s]"
      ]
     },
     "metadata": {},
     "output_type": "display_data"
    },
    {
     "data": {
      "application/vnd.jupyter.widget-view+json": {
       "model_id": "0254389e933846e9897b9af5f49a304f",
       "version_major": 2,
       "version_minor": 0
      },
      "text/plain": [
       "Downloading selected files...:   0%|          | 0/5 [00:00<?, ?it/s]"
      ]
     },
     "metadata": {},
     "output_type": "display_data"
    },
    {
     "name": "stderr",
     "output_type": "stream",
     "text": [
      "2025-05-19 15:15:22,280 - INFO - File data/inferring_affinities\\input_strains\\fna\\1115817.3.fna already exists and force is False. Skipping download.\n",
      "2025-05-19 15:15:22,281 - INFO - File data/inferring_affinities\\input_strains\\fna\\1115814.3.fna already exists and force is False. Skipping download.\n",
      "2025-05-19 15:15:22,281 - INFO - File data/inferring_affinities\\input_strains\\fna\\1115827.3.fna already exists and force is False. Skipping download.\n",
      "2025-05-19 15:15:22,282 - INFO - File data/inferring_affinities\\input_strains\\fna\\1115819.3.fna already exists and force is False. Skipping download.\n",
      "2025-05-19 15:15:22,282 - INFO - File data/inferring_affinities\\input_strains\\fna\\1115812.3.fna already exists and force is False. Skipping download.\n"
     ]
    },
    {
     "data": {
      "application/vnd.jupyter.widget-view+json": {
       "model_id": "3d45f7c138cd43e5af4707baef80d3bb",
       "version_major": 2,
       "version_minor": 0
      },
      "text/plain": [
       "Removing bad genome files...: 0it [00:00, ?it/s]"
      ]
     },
     "metadata": {},
     "output_type": "display_data"
    }
   ],
   "source": [
    "bad_genomes = download_genomes_bvbrc(\n",
    "    genomes=genomes_to_download,\n",
    "    output_dir=OUTPUT_DIR,\n",
    "    filetypes=['fna']\n",
    ")"
   ]
  },
  {
   "cell_type": "markdown",
   "id": "5a3ab5cf-50e8-4a9d-b058-e302d920e340",
   "metadata": {},
   "source": [
    "# Run Script to Combine Sequences with the CD-HIT Pangenome\n",
    "\n",
    "Following the same protocol as the README describes, run the Snakefile in `workflow/infer_affinities` to assess new strains against the pangenome by first running MASH and CD-HIT-2D."
   ]
  },
  {
   "cell_type": "markdown",
   "id": "9a100c20-ca45-4ddf-af6a-b25e14212c2e",
   "metadata": {},
   "source": [
    "# Analyze the Results"
   ]
  },
  {
   "cell_type": "markdown",
   "id": "8189871c-65f6-4c39-bbb2-ac8505ac5862",
   "metadata": {},
   "source": [
    "## Load Data"
   ]
  },
  {
   "cell_type": "code",
   "execution_count": 6,
   "id": "10a02269-5f74-458f-8a06-58fccf3f85aa",
   "metadata": {},
   "outputs": [],
   "source": [
    "# Load in (full) P matrix\n",
    "df_genes = pd.read_pickle(os.path.join(WORKDIR, f'processed/cd-hit-results/{SPECIES}_strain_by_gene.pickle.gz'))\n",
    "\n",
    "# Load in metadata\n",
    "ENRICHED_METADATA = os.path.join(WORKDIR, 'interim/enriched_metadata_2d.csv')\n",
    "# Load in (full) metadata\n",
    "metadata = pd.read_csv(ENRICHED_METADATA, index_col=0, dtype='object')\n",
    "\n",
    "# Filter metadata for Complete sequences only\n",
    "metadata = metadata[metadata.genome_status == 'Complete'] # filter for only Complete sequences\n",
    "\n",
    "# Filter P matrix for Complete sequences only\n",
    "df_genes_complete = df_genes[metadata.genome_id].copy()\n",
    "df_genes_complete.fillna(0, inplace=True) # replace N/A with 0\n",
    "df_genes_complete = df_genes_complete.sparse.to_dense().astype('int8') # densify & typecast to int8 for space and compute reasons\n",
    "inCompleteseqs = df_genes_complete.sum(axis=1) > 0 # filter for genes found in complete sequences\n",
    "df_genes_complete = df_genes_complete[inCompleteseqs]\n",
    "\n",
    "metadata = metadata.set_index('genome_id')\n",
    "\n",
    "L_BIN = os.path.join(WORKDIR, 'processed/nmf-outputs/L_binarized.csv')\n",
    "L_binarized = pd.read_csv(L_BIN, index_col=0)\n",
    "\n",
    "L_NORM = os.path.join(WORKDIR, 'processed/nmf-outputs/L_norm.csv')\n",
    "L_norm = pd.read_csv(L_NORM, index_col=0)\n",
    "\n",
    "A_NORM = os.path.join(WORKDIR, 'processed/nmf-outputs/A_norm.csv')\n",
    "A_norm = pd.read_csv(A_NORM, index_col=0)"
   ]
  },
  {
   "cell_type": "markdown",
   "id": "3cea0b96-23d7-4867-8321-dc61663610df",
   "metadata": {},
   "source": [
    "## Classify new strains against MASH clusters"
   ]
  },
  {
   "cell_type": "code",
   "execution_count": 7,
   "id": "4ce04dde-e334-4d75-a016-5dc6c82fb15f",
   "metadata": {},
   "outputs": [],
   "source": [
    "MASH_DISTANCES = os.path.join(WORKDIR, 'inferring_affinities', 'combined_mash_distances.csv')\n",
    "\n",
    "mash_distances = pd.read_csv(MASH_DISTANCES, dtype = 'object').set_index('genome_id').astype(float)"
   ]
  },
  {
   "cell_type": "code",
   "execution_count": 8,
   "id": "1ee8653e-32e4-4443-a4f6-8d74b1ba1626",
   "metadata": {},
   "outputs": [],
   "source": [
    "strain_mash_clusters = pd.DataFrame(columns = ['best_cluster', 'nearest_mash_distance_mean'])\n",
    "\n",
    "for new_strain in mash_distances.columns:\n",
    "    top_distances = mash_distances[new_strain].sort_values().index[:5] # get 5 closest strains\n",
    "    mash_cluster = int(float(metadata.loc[top_distances]['mash_cluster'].value_counts().idxmax()))\n",
    "    strain_mash_clusters.loc[new_strain] = [mash_cluster,\n",
    "                                            mash_distances[new_strain].sort_values().head(5).mean()]"
   ]
  },
  {
   "cell_type": "code",
   "execution_count": 9,
   "id": "cc0d3a67-da45-4d9c-8eb1-09250b9b0f5f",
   "metadata": {},
   "outputs": [
    {
     "data": {
      "text/html": [
       "<div>\n",
       "<style scoped>\n",
       "    .dataframe tbody tr th:only-of-type {\n",
       "        vertical-align: middle;\n",
       "    }\n",
       "\n",
       "    .dataframe tbody tr th {\n",
       "        vertical-align: top;\n",
       "    }\n",
       "\n",
       "    .dataframe thead th {\n",
       "        text-align: right;\n",
       "    }\n",
       "</style>\n",
       "<table border=\"1\" class=\"dataframe\">\n",
       "  <thead>\n",
       "    <tr style=\"text-align: right;\">\n",
       "      <th></th>\n",
       "      <th>best_cluster</th>\n",
       "      <th>nearest_mash_distance_mean</th>\n",
       "    </tr>\n",
       "  </thead>\n",
       "  <tbody>\n",
       "    <tr>\n",
       "      <th>1115812.3_distances</th>\n",
       "      <td>2.0</td>\n",
       "      <td>0.011445</td>\n",
       "    </tr>\n",
       "    <tr>\n",
       "      <th>1115814.3_distances</th>\n",
       "      <td>17.0</td>\n",
       "      <td>0.009936</td>\n",
       "    </tr>\n",
       "    <tr>\n",
       "      <th>1115817.3_distances</th>\n",
       "      <td>3.0</td>\n",
       "      <td>0.007297</td>\n",
       "    </tr>\n",
       "    <tr>\n",
       "      <th>1115819.3_distances</th>\n",
       "      <td>3.0</td>\n",
       "      <td>0.004689</td>\n",
       "    </tr>\n",
       "    <tr>\n",
       "      <th>1115827.3_distances</th>\n",
       "      <td>8.0</td>\n",
       "      <td>0.011389</td>\n",
       "    </tr>\n",
       "  </tbody>\n",
       "</table>\n",
       "</div>"
      ],
      "text/plain": [
       "                     best_cluster  nearest_mash_distance_mean\n",
       "1115812.3_distances           2.0                    0.011445\n",
       "1115814.3_distances          17.0                    0.009936\n",
       "1115817.3_distances           3.0                    0.007297\n",
       "1115819.3_distances           3.0                    0.004689\n",
       "1115827.3_distances           8.0                    0.011389"
      ]
     },
     "execution_count": 9,
     "metadata": {},
     "output_type": "execute_result"
    }
   ],
   "source": [
    "strain_mash_clusters"
   ]
  },
  {
   "cell_type": "markdown",
   "id": "6d689e0e-ce39-4dea-9a2a-2ea02a749706",
   "metadata": {},
   "source": [
    "## Assign Phylon Affinities"
   ]
  },
  {
   "cell_type": "code",
   "execution_count": 10,
   "id": "564487d5-d9d5-4a7b-b1be-33608cfc3b57",
   "metadata": {},
   "outputs": [],
   "source": [
    "from pyphylon.infer_affinities import *\n",
    "from pyphylon.models import recommended_threshold\n",
    "import seaborn as sns"
   ]
  },
  {
   "cell_type": "code",
   "execution_count": 19,
   "id": "153fdd3c",
   "metadata": {},
   "outputs": [
    {
     "data": {
      "text/html": [
       "<div>\n",
       "<style scoped>\n",
       "    .dataframe tbody tr th:only-of-type {\n",
       "        vertical-align: middle;\n",
       "    }\n",
       "\n",
       "    .dataframe tbody tr th {\n",
       "        vertical-align: top;\n",
       "    }\n",
       "\n",
       "    .dataframe thead th {\n",
       "        text-align: right;\n",
       "    }\n",
       "</style>\n",
       "<table border=\"1\" class=\"dataframe\">\n",
       "  <thead>\n",
       "    <tr style=\"text-align: right;\">\n",
       "      <th></th>\n",
       "      <th>phylon0</th>\n",
       "      <th>phylon1</th>\n",
       "      <th>phylon2</th>\n",
       "      <th>phylon3</th>\n",
       "      <th>phylon4</th>\n",
       "      <th>phylon5</th>\n",
       "    </tr>\n",
       "  </thead>\n",
       "  <tbody>\n",
       "    <tr>\n",
       "      <th>SPyogenes_C229</th>\n",
       "      <td>0.022316</td>\n",
       "      <td>0.000000</td>\n",
       "      <td>0.002094</td>\n",
       "      <td>0.805342</td>\n",
       "      <td>0.000000</td>\n",
       "      <td>0.000000</td>\n",
       "    </tr>\n",
       "    <tr>\n",
       "      <th>SPyogenes_C448</th>\n",
       "      <td>0.376570</td>\n",
       "      <td>0.017068</td>\n",
       "      <td>0.120379</td>\n",
       "      <td>0.845740</td>\n",
       "      <td>0.000000</td>\n",
       "      <td>0.139285</td>\n",
       "    </tr>\n",
       "    <tr>\n",
       "      <th>SPyogenes_C2216</th>\n",
       "      <td>0.995822</td>\n",
       "      <td>0.931153</td>\n",
       "      <td>0.897150</td>\n",
       "      <td>0.000000</td>\n",
       "      <td>0.943714</td>\n",
       "      <td>0.804242</td>\n",
       "    </tr>\n",
       "    <tr>\n",
       "      <th>SPyogenes_C3484</th>\n",
       "      <td>0.859330</td>\n",
       "      <td>0.924933</td>\n",
       "      <td>0.859594</td>\n",
       "      <td>0.733048</td>\n",
       "      <td>0.928510</td>\n",
       "      <td>0.817885</td>\n",
       "    </tr>\n",
       "    <tr>\n",
       "      <th>SPyogenes_C536</th>\n",
       "      <td>0.971640</td>\n",
       "      <td>0.933592</td>\n",
       "      <td>0.896995</td>\n",
       "      <td>0.000000</td>\n",
       "      <td>0.949662</td>\n",
       "      <td>0.716580</td>\n",
       "    </tr>\n",
       "    <tr>\n",
       "      <th>...</th>\n",
       "      <td>...</td>\n",
       "      <td>...</td>\n",
       "      <td>...</td>\n",
       "      <td>...</td>\n",
       "      <td>...</td>\n",
       "      <td>...</td>\n",
       "    </tr>\n",
       "    <tr>\n",
       "      <th>SPyogenes_C446</th>\n",
       "      <td>1.026319</td>\n",
       "      <td>0.937260</td>\n",
       "      <td>0.877735</td>\n",
       "      <td>0.905245</td>\n",
       "      <td>0.944865</td>\n",
       "      <td>0.234131</td>\n",
       "    </tr>\n",
       "    <tr>\n",
       "      <th>SPyogenes_C4062</th>\n",
       "      <td>0.197095</td>\n",
       "      <td>0.000000</td>\n",
       "      <td>0.120058</td>\n",
       "      <td>0.854579</td>\n",
       "      <td>0.000000</td>\n",
       "      <td>0.000000</td>\n",
       "    </tr>\n",
       "    <tr>\n",
       "      <th>SPyogenes_C3361</th>\n",
       "      <td>0.995822</td>\n",
       "      <td>0.931153</td>\n",
       "      <td>0.897150</td>\n",
       "      <td>0.000000</td>\n",
       "      <td>0.943714</td>\n",
       "      <td>0.804242</td>\n",
       "    </tr>\n",
       "    <tr>\n",
       "      <th>SPyogenes_C3799</th>\n",
       "      <td>0.007238</td>\n",
       "      <td>0.000000</td>\n",
       "      <td>1.000625</td>\n",
       "      <td>0.000000</td>\n",
       "      <td>0.000000</td>\n",
       "      <td>0.092417</td>\n",
       "    </tr>\n",
       "    <tr>\n",
       "      <th>SPyogenes_C3241</th>\n",
       "      <td>0.119324</td>\n",
       "      <td>0.897492</td>\n",
       "      <td>0.053017</td>\n",
       "      <td>0.010398</td>\n",
       "      <td>0.274425</td>\n",
       "      <td>0.000000</td>\n",
       "    </tr>\n",
       "  </tbody>\n",
       "</table>\n",
       "<p>1167 rows × 6 columns</p>\n",
       "</div>"
      ],
      "text/plain": [
       "                  phylon0   phylon1   phylon2   phylon3   phylon4   phylon5\n",
       "SPyogenes_C229   0.022316  0.000000  0.002094  0.805342  0.000000  0.000000\n",
       "SPyogenes_C448   0.376570  0.017068  0.120379  0.845740  0.000000  0.139285\n",
       "SPyogenes_C2216  0.995822  0.931153  0.897150  0.000000  0.943714  0.804242\n",
       "SPyogenes_C3484  0.859330  0.924933  0.859594  0.733048  0.928510  0.817885\n",
       "SPyogenes_C536   0.971640  0.933592  0.896995  0.000000  0.949662  0.716580\n",
       "...                   ...       ...       ...       ...       ...       ...\n",
       "SPyogenes_C446   1.026319  0.937260  0.877735  0.905245  0.944865  0.234131\n",
       "SPyogenes_C4062  0.197095  0.000000  0.120058  0.854579  0.000000  0.000000\n",
       "SPyogenes_C3361  0.995822  0.931153  0.897150  0.000000  0.943714  0.804242\n",
       "SPyogenes_C3799  0.007238  0.000000  1.000625  0.000000  0.000000  0.092417\n",
       "SPyogenes_C3241  0.119324  0.897492  0.053017  0.010398  0.274425  0.000000\n",
       "\n",
       "[1167 rows x 6 columns]"
      ]
     },
     "execution_count": 19,
     "metadata": {},
     "output_type": "execute_result"
    }
   ],
   "source": [
    "L_norm"
   ]
  },
  {
   "cell_type": "code",
   "execution_count": null,
   "id": "a1b8ce40-c579-46a7-bdf8-c05e3ea4075a",
   "metadata": {},
   "outputs": [
    {
     "ename": "KeyError",
     "evalue": "\"['SPyogenes_C398', 'SPyogenes_C2357', 'SPyogenes_C801', 'SPyogenes_C3052', 'SPyogenes_C872', 'SPyogenes_C284', 'SPyogenes_C8'] not in index\"",
     "output_type": "error",
     "traceback": [
      "\u001b[1;31m---------------------------------------------------------------------------\u001b[0m",
      "\u001b[1;31mKeyError\u001b[0m                                  Traceback (most recent call last)",
      "Cell \u001b[1;32mIn[29], line 5\u001b[0m\n\u001b[0;32m      2\u001b[0m P_new \u001b[38;5;241m=\u001b[39m pd\u001b[38;5;241m.\u001b[39mread_csv(P_NEW, index_col\u001b[38;5;241m=\u001b[39m\u001b[38;5;241m0\u001b[39m)\n\u001b[0;32m      3\u001b[0m P_new \u001b[38;5;241m=\u001b[39m P_new\u001b[38;5;241m.\u001b[39mreindex(df_genes\u001b[38;5;241m.\u001b[39mindex, fill_value\u001b[38;5;241m=\u001b[39m\u001b[38;5;241m0\u001b[39m)\n\u001b[1;32m----> 5\u001b[0m P_new_acc \u001b[38;5;241m=\u001b[39m \u001b[43mP_new\u001b[49m\u001b[38;5;241;43m.\u001b[39;49m\u001b[43mloc\u001b[49m\u001b[43m[\u001b[49m\u001b[43mL_norm\u001b[49m\u001b[38;5;241;43m.\u001b[39;49m\u001b[43mindex\u001b[49m\u001b[43m]\u001b[49m\n\u001b[0;32m      7\u001b[0m \u001b[38;5;66;03m# P_new_acc = P_new.loc[list(set(L_norm.index.tolist())&set(P_new.index.tolist()))] # without this i get an error that 7 genes in L_norm are not in P_new\u001b[39;00m\n\u001b[0;32m      8\u001b[0m \u001b[38;5;66;03m# L_norm2 = L_norm.loc[list(set(L_norm.index.tolist())&set(P_new.index.tolist()))] # to make dimension match...\u001b[39;00m\n",
      "File \u001b[1;32mc:\\Users\\jon\\.conda\\envs\\pyphylon\\Lib\\site-packages\\pandas\\core\\indexing.py:1191\u001b[0m, in \u001b[0;36m_LocationIndexer.__getitem__\u001b[1;34m(self, key)\u001b[0m\n\u001b[0;32m   1189\u001b[0m maybe_callable \u001b[38;5;241m=\u001b[39m com\u001b[38;5;241m.\u001b[39mapply_if_callable(key, \u001b[38;5;28mself\u001b[39m\u001b[38;5;241m.\u001b[39mobj)\n\u001b[0;32m   1190\u001b[0m maybe_callable \u001b[38;5;241m=\u001b[39m \u001b[38;5;28mself\u001b[39m\u001b[38;5;241m.\u001b[39m_check_deprecated_callable_usage(key, maybe_callable)\n\u001b[1;32m-> 1191\u001b[0m \u001b[38;5;28;01mreturn\u001b[39;00m \u001b[38;5;28;43mself\u001b[39;49m\u001b[38;5;241;43m.\u001b[39;49m\u001b[43m_getitem_axis\u001b[49m\u001b[43m(\u001b[49m\u001b[43mmaybe_callable\u001b[49m\u001b[43m,\u001b[49m\u001b[43m \u001b[49m\u001b[43maxis\u001b[49m\u001b[38;5;241;43m=\u001b[39;49m\u001b[43maxis\u001b[49m\u001b[43m)\u001b[49m\n",
      "File \u001b[1;32mc:\\Users\\jon\\.conda\\envs\\pyphylon\\Lib\\site-packages\\pandas\\core\\indexing.py:1420\u001b[0m, in \u001b[0;36m_LocIndexer._getitem_axis\u001b[1;34m(self, key, axis)\u001b[0m\n\u001b[0;32m   1417\u001b[0m     \u001b[38;5;28;01mif\u001b[39;00m \u001b[38;5;28mhasattr\u001b[39m(key, \u001b[38;5;124m\"\u001b[39m\u001b[38;5;124mndim\u001b[39m\u001b[38;5;124m\"\u001b[39m) \u001b[38;5;129;01mand\u001b[39;00m key\u001b[38;5;241m.\u001b[39mndim \u001b[38;5;241m>\u001b[39m \u001b[38;5;241m1\u001b[39m:\n\u001b[0;32m   1418\u001b[0m         \u001b[38;5;28;01mraise\u001b[39;00m \u001b[38;5;167;01mValueError\u001b[39;00m(\u001b[38;5;124m\"\u001b[39m\u001b[38;5;124mCannot index with multidimensional key\u001b[39m\u001b[38;5;124m\"\u001b[39m)\n\u001b[1;32m-> 1420\u001b[0m     \u001b[38;5;28;01mreturn\u001b[39;00m \u001b[38;5;28;43mself\u001b[39;49m\u001b[38;5;241;43m.\u001b[39;49m\u001b[43m_getitem_iterable\u001b[49m\u001b[43m(\u001b[49m\u001b[43mkey\u001b[49m\u001b[43m,\u001b[49m\u001b[43m \u001b[49m\u001b[43maxis\u001b[49m\u001b[38;5;241;43m=\u001b[39;49m\u001b[43maxis\u001b[49m\u001b[43m)\u001b[49m\n\u001b[0;32m   1422\u001b[0m \u001b[38;5;66;03m# nested tuple slicing\u001b[39;00m\n\u001b[0;32m   1423\u001b[0m \u001b[38;5;28;01mif\u001b[39;00m is_nested_tuple(key, labels):\n",
      "File \u001b[1;32mc:\\Users\\jon\\.conda\\envs\\pyphylon\\Lib\\site-packages\\pandas\\core\\indexing.py:1360\u001b[0m, in \u001b[0;36m_LocIndexer._getitem_iterable\u001b[1;34m(self, key, axis)\u001b[0m\n\u001b[0;32m   1357\u001b[0m \u001b[38;5;28mself\u001b[39m\u001b[38;5;241m.\u001b[39m_validate_key(key, axis)\n\u001b[0;32m   1359\u001b[0m \u001b[38;5;66;03m# A collection of keys\u001b[39;00m\n\u001b[1;32m-> 1360\u001b[0m keyarr, indexer \u001b[38;5;241m=\u001b[39m \u001b[38;5;28;43mself\u001b[39;49m\u001b[38;5;241;43m.\u001b[39;49m\u001b[43m_get_listlike_indexer\u001b[49m\u001b[43m(\u001b[49m\u001b[43mkey\u001b[49m\u001b[43m,\u001b[49m\u001b[43m \u001b[49m\u001b[43maxis\u001b[49m\u001b[43m)\u001b[49m\n\u001b[0;32m   1361\u001b[0m \u001b[38;5;28;01mreturn\u001b[39;00m \u001b[38;5;28mself\u001b[39m\u001b[38;5;241m.\u001b[39mobj\u001b[38;5;241m.\u001b[39m_reindex_with_indexers(\n\u001b[0;32m   1362\u001b[0m     {axis: [keyarr, indexer]}, copy\u001b[38;5;241m=\u001b[39m\u001b[38;5;28;01mTrue\u001b[39;00m, allow_dups\u001b[38;5;241m=\u001b[39m\u001b[38;5;28;01mTrue\u001b[39;00m\n\u001b[0;32m   1363\u001b[0m )\n",
      "File \u001b[1;32mc:\\Users\\jon\\.conda\\envs\\pyphylon\\Lib\\site-packages\\pandas\\core\\indexing.py:1558\u001b[0m, in \u001b[0;36m_LocIndexer._get_listlike_indexer\u001b[1;34m(self, key, axis)\u001b[0m\n\u001b[0;32m   1555\u001b[0m ax \u001b[38;5;241m=\u001b[39m \u001b[38;5;28mself\u001b[39m\u001b[38;5;241m.\u001b[39mobj\u001b[38;5;241m.\u001b[39m_get_axis(axis)\n\u001b[0;32m   1556\u001b[0m axis_name \u001b[38;5;241m=\u001b[39m \u001b[38;5;28mself\u001b[39m\u001b[38;5;241m.\u001b[39mobj\u001b[38;5;241m.\u001b[39m_get_axis_name(axis)\n\u001b[1;32m-> 1558\u001b[0m keyarr, indexer \u001b[38;5;241m=\u001b[39m \u001b[43max\u001b[49m\u001b[38;5;241;43m.\u001b[39;49m\u001b[43m_get_indexer_strict\u001b[49m\u001b[43m(\u001b[49m\u001b[43mkey\u001b[49m\u001b[43m,\u001b[49m\u001b[43m \u001b[49m\u001b[43maxis_name\u001b[49m\u001b[43m)\u001b[49m\n\u001b[0;32m   1560\u001b[0m \u001b[38;5;28;01mreturn\u001b[39;00m keyarr, indexer\n",
      "File \u001b[1;32mc:\\Users\\jon\\.conda\\envs\\pyphylon\\Lib\\site-packages\\pandas\\core\\indexes\\base.py:6200\u001b[0m, in \u001b[0;36mIndex._get_indexer_strict\u001b[1;34m(self, key, axis_name)\u001b[0m\n\u001b[0;32m   6197\u001b[0m \u001b[38;5;28;01melse\u001b[39;00m:\n\u001b[0;32m   6198\u001b[0m     keyarr, indexer, new_indexer \u001b[38;5;241m=\u001b[39m \u001b[38;5;28mself\u001b[39m\u001b[38;5;241m.\u001b[39m_reindex_non_unique(keyarr)\n\u001b[1;32m-> 6200\u001b[0m \u001b[38;5;28;43mself\u001b[39;49m\u001b[38;5;241;43m.\u001b[39;49m\u001b[43m_raise_if_missing\u001b[49m\u001b[43m(\u001b[49m\u001b[43mkeyarr\u001b[49m\u001b[43m,\u001b[49m\u001b[43m \u001b[49m\u001b[43mindexer\u001b[49m\u001b[43m,\u001b[49m\u001b[43m \u001b[49m\u001b[43maxis_name\u001b[49m\u001b[43m)\u001b[49m\n\u001b[0;32m   6202\u001b[0m keyarr \u001b[38;5;241m=\u001b[39m \u001b[38;5;28mself\u001b[39m\u001b[38;5;241m.\u001b[39mtake(indexer)\n\u001b[0;32m   6203\u001b[0m \u001b[38;5;28;01mif\u001b[39;00m \u001b[38;5;28misinstance\u001b[39m(key, Index):\n\u001b[0;32m   6204\u001b[0m     \u001b[38;5;66;03m# GH 42790 - Preserve name from an Index\u001b[39;00m\n",
      "File \u001b[1;32mc:\\Users\\jon\\.conda\\envs\\pyphylon\\Lib\\site-packages\\pandas\\core\\indexes\\base.py:6252\u001b[0m, in \u001b[0;36mIndex._raise_if_missing\u001b[1;34m(self, key, indexer, axis_name)\u001b[0m\n\u001b[0;32m   6249\u001b[0m     \u001b[38;5;28;01mraise\u001b[39;00m \u001b[38;5;167;01mKeyError\u001b[39;00m(\u001b[38;5;124mf\u001b[39m\u001b[38;5;124m\"\u001b[39m\u001b[38;5;124mNone of [\u001b[39m\u001b[38;5;132;01m{\u001b[39;00mkey\u001b[38;5;132;01m}\u001b[39;00m\u001b[38;5;124m] are in the [\u001b[39m\u001b[38;5;132;01m{\u001b[39;00maxis_name\u001b[38;5;132;01m}\u001b[39;00m\u001b[38;5;124m]\u001b[39m\u001b[38;5;124m\"\u001b[39m)\n\u001b[0;32m   6251\u001b[0m not_found \u001b[38;5;241m=\u001b[39m \u001b[38;5;28mlist\u001b[39m(ensure_index(key)[missing_mask\u001b[38;5;241m.\u001b[39mnonzero()[\u001b[38;5;241m0\u001b[39m]]\u001b[38;5;241m.\u001b[39munique())\n\u001b[1;32m-> 6252\u001b[0m \u001b[38;5;28;01mraise\u001b[39;00m \u001b[38;5;167;01mKeyError\u001b[39;00m(\u001b[38;5;124mf\u001b[39m\u001b[38;5;124m\"\u001b[39m\u001b[38;5;132;01m{\u001b[39;00mnot_found\u001b[38;5;132;01m}\u001b[39;00m\u001b[38;5;124m not in index\u001b[39m\u001b[38;5;124m\"\u001b[39m)\n",
      "\u001b[1;31mKeyError\u001b[0m: \"['SPyogenes_C398', 'SPyogenes_C2357', 'SPyogenes_C801', 'SPyogenes_C3052', 'SPyogenes_C872', 'SPyogenes_C284', 'SPyogenes_C8'] not in index\""
     ]
    }
   ],
   "source": [
    "P_NEW = os.path.join(WORKDIR, 'inferring_affinities', 'combined_P_matrix.csv')\n",
    "P_new = pd.read_csv(P_NEW, index_col=0)\n",
    "P_new = P_new.reindex(df_genes.index, fill_value=0)\n",
    "\n",
    "# P_new_acc = P_new.loc[L_norm.index]\n",
    "\n",
    "P_new_acc = P_new.loc[list(set(L_norm.index.tolist())&set(P_new.index.tolist()))] # without this i get an error that 7 genes in L_norm are not in P_new\n",
    "L_norm2 = L_norm.loc[list(set(L_norm.index.tolist())&set(P_new.index.tolist()))] # to make dimension match..."
   ]
  },
  {
   "cell_type": "code",
   "execution_count": 26,
   "id": "f488bed3-a6df-432e-ad27-fd05b6e97037",
   "metadata": {},
   "outputs": [
    {
     "data": {
      "application/vnd.jupyter.widget-view+json": {
       "model_id": "bfec76084cda446e95aab63f01ad4adb",
       "version_major": 2,
       "version_minor": 0
      },
      "text/plain": [
       "  0%|          | 0/5 [00:00<?, ?it/s]"
      ]
     },
     "metadata": {},
     "output_type": "display_data"
    }
   ],
   "source": [
    "A_new = infer_affinities(L_norm2.to_numpy(),  P_new_acc.to_numpy(), n_jobs=4)\n",
    "A_new = pd.DataFrame(A_new, index = L_norm.columns, columns = P_new_acc.columns)"
   ]
  },
  {
   "cell_type": "code",
   "execution_count": 27,
   "id": "0647e1cf-7d4a-42e9-b6f9-cfaaa55b0999",
   "metadata": {},
   "outputs": [
    {
     "data": {
      "text/plain": [
       "<Axes: >"
      ]
     },
     "execution_count": 27,
     "metadata": {},
     "output_type": "execute_result"
    },
    {
     "data": {
      "image/png": "[encoded data removed]",
      "text/plain": [
       "<Figure size 640x480 with 2 Axes>"
      ]
     },
     "metadata": {},
     "output_type": "display_data"
    }
   ],
   "source": [
    "# Basic binarization with thresholds from original matrix:\n",
    "A_binarized_new = pd.DataFrame(np.zeros_like(A_new.values), index=A_norm.index, columns=A_new.columns)\n",
    "\n",
    "\n",
    "for idx in A_norm.index: # 90% of threshold for original A matrix used to account for CD-HIT clustering incongruities on strains\n",
    "    cond = A_new.loc[idx] >= recommended_threshold(A_norm, idx.split('n')[1]) * .9\n",
    "    A_binarized_new.loc[idx,cond] = 1\n",
    "\n",
    "sns.heatmap(A_new, cmap='Greys')"
   ]
  },
  {
   "cell_type": "code",
   "execution_count": null,
   "id": "c89545fc",
   "metadata": {},
   "outputs": [],
   "source": []
  }
 ],
 "metadata": {
  "kernelspec": {
   "display_name": "pyphylon",
   "language": "python",
   "name": "python3"
  },
  "language_info": {
   "codemirror_mode": {
    "name": "ipython",
    "version": 3
   },
   "file_extension": ".py",
   "mimetype": "text/x-python",
   "name": "python",
   "nbconvert_exporter": "python",
   "pygments_lexer": "ipython3",
   "version": "3.11.11"
  }
 },
 "nbformat": 4,
 "nbformat_minor": 5
}
