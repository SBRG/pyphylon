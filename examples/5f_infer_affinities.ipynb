{
 "cells": [
  {
   "cell_type": "code",
   "execution_count": null,
   "id": "4d897cd1-38de-4352-8ff2-b8a78e46e351",
   "metadata": {},
   "outputs": [],
   "source": [
    "import os\n",
    "import pandas as pd\n",
    "\n",
    "from tqdm.notebook import tqdm\n",
    "\n",
    "from pyphylon.downloads import download_genomes_bvbrc\n",
    "from pyphylon.util import load_config"
   ]
  },
  {
   "cell_type": "code",
   "execution_count": null,
   "id": "87601db5-4179-4efd-bff3-19929b55bf5f",
   "metadata": {},
   "outputs": [],
   "source": [
    "CONFIG = load_config(\"config.yml\")\n",
    "WORKDIR = CONFIG[\"WORKDIR\"]\n",
    "SPECIES = CONFIG[\"PG_NAME\"]"
   ]
  },
  {
   "cell_type": "markdown",
   "id": "ccbdfdd0-4e4c-45bf-a4c0-704f9149be1c",
   "metadata": {},
   "source": [
    "# Select Strains for Affinity Inference\n",
    "\n",
    "Select strains for which to infer affinities. Place these strains as .fna files into the directory `/examples/data/inferring_affinities/input_strains`.\n",
    "\n",
    "Below, 5 strains are downloaded as an example."
   ]
  },
  {
   "cell_type": "code",
   "execution_count": null,
   "id": "29451274-9257-4aa6-8e49-094b62d01252",
   "metadata": {},
   "outputs": [],
   "source": [
    "# Make output directories\n",
    "INFERRING_AFFINITIES = os.path.join(WORKDIR, 'inferring_affinities')\n",
    "OUTPUT_DIR = os.path.join(INFERRING_AFFINITIES, \"input_strains\")\n",
    "if not os.path.exists(INFERRING_AFFINITIES):\n",
    "    os.makedirs(INFERRING_AFFINITIES)\n",
    "\n",
    "if not os.path.exists(OUTPUT_DIR):\n",
    "    os.makedirs(OUTPUT_DIR)"
   ]
  },
  {
   "cell_type": "code",
   "execution_count": null,
   "id": "2c1e423f-64d4-4e16-939a-db78fc5051f6",
   "metadata": {},
   "outputs": [],
   "source": [
    "genomes_to_download = [\n",
    "'1115817.3',\n",
    "'1115814.3',\n",
    "'1115827.3',\n",
    "'1115819.3',\n",
    "'1115812.3',\n",
    "]"
   ]
  },
  {
   "cell_type": "code",
   "execution_count": null,
   "id": "ce1b54fe-6399-475c-b043-9418dd020282",
   "metadata": {},
   "outputs": [],
   "source": [
    "bad_genomes = download_genomes_bvbrc(\n",
    "    genomes=genomes_to_download,\n",
    "    output_dir=OUTPUT_DIR,\n",
    "    filetypes=['fna']\n",
    ")"
   ]
  },
  {
   "cell_type": "markdown",
   "id": "5a3ab5cf-50e8-4a9d-b058-e302d920e340",
   "metadata": {},
   "source": [
    "# Run Script to Combine Sequences with the CD-HIT Pangenome\n",
    "\n",
    "Following the same protocol as the README describes, run the Snakefile in `workflow/infer_affinities` to combine assess new strains against the pangenome by first running MASH and CD-HIT-2D."
   ]
  },
  {
   "cell_type": "markdown",
   "id": "9a100c20-ca45-4ddf-af6a-b25e14212c2e",
   "metadata": {},
   "source": [
    "# Analyze the Results"
   ]
  },
  {
   "cell_type": "markdown",
   "id": "8189871c-65f6-4c39-bbb2-ac8505ac5862",
   "metadata": {},
   "source": [
    "## Load Data"
   ]
  },
  {
   "cell_type": "code",
   "execution_count": null,
   "id": "10a02269-5f74-458f-8a06-58fccf3f85aa",
   "metadata": {},
   "outputs": [],
   "source": [
    "# Load in (full) P matrix\n",
    "df_genes = pd.read_pickle(os.path.join(WORKDIR, f'processed/cd-hit-results/{SPECIES}_strain_by_gene.pickle.gz'))\n",
    "\n",
    "# Load in metadata\n",
    "ENRICHED_METADATA = os.path.join(WORKDIR, 'interim/enriched_metadata_2d.csv')\n",
    "# Load in (full) metadata\n",
    "metadata = pd.read_csv(ENRICHED_METADATA, index_col=0, dtype='object')\n",
    "\n",
    "# Filter metadata for Complete sequences only\n",
    "metadata = metadata[metadata.genome_status == 'Complete'] # filter for only Complete sequences\n",
    "\n",
    "# Filter P matrix for Complete sequences only\n",
    "df_genes_complete = df_genes[metadata.genome_id].copy()\n",
    "df_genes_complete.fillna(0, inplace=True) # replace N/A with 0\n",
    "df_genes_complete = df_genes_complete.sparse.to_dense().astype('int8') # densify & typecast to int8 for space and compute reasons\n",
    "inCompleteseqs = df_genes_complete.sum(axis=1) > 0 # filter for genes found in complete sequences\n",
    "df_genes_complete = df_genes_complete[inCompleteseqs]\n",
    "\n",
    "metadata = metadata.set_index('genome_id')\n",
    "\n",
    "L_BIN = os.path.join(WORKDIR, 'processed/nmf-outputs/L_binarized.csv')\n",
    "L_binarized = pd.read_csv(L_BIN, index_col=0)\n",
    "\n",
    "L_NORM = os.path.join(WORKDIR, 'processed/nmf-outputs/L_norm.csv')\n",
    "L_norm = pd.read_csv(L_NORM, index_col=0)\n",
    "\n",
    "A_NORM = os.path.join(WORKDIR, 'processed/nmf-outputs/A_norm.csv')\n",
    "A_norm = pd.read_csv(A_NORM, index_col=0)"
   ]
  },
  {
   "cell_type": "markdown",
   "id": "3cea0b96-23d7-4867-8321-dc61663610df",
   "metadata": {},
   "source": [
    "## Classify new strains against MASH clusters"
   ]
  },
  {
   "cell_type": "code",
   "execution_count": null,
   "id": "4ce04dde-e334-4d75-a016-5dc6c82fb15f",
   "metadata": {},
   "outputs": [],
   "source": [
    "MASH_DISTANCES = os.path.join(WORKDIR, 'inferring_affinities', 'combined_mash_distances.csv')\n",
    "\n",
    "mash_distances = pd.read_csv(MASH_DISTANCES, dtype = 'object').set_index('genome_id').astype(float)"
   ]
  },
  {
   "cell_type": "code",
   "execution_count": null,
   "id": "1ee8653e-32e4-4443-a4f6-8d74b1ba1626",
   "metadata": {},
   "outputs": [],
   "source": [
    "strain_mash_clusters = pd.DataFrame(columns = ['best_cluster', 'nearest_mash_distance_mean'])\n",
    "\n",
    "for new_strain in mash_distances.columns:\n",
    "    top_distances = mash_distances[new_strain].sort_values().index[:5] # get 5 closest strains\n",
    "    mash_cluster = int(float(metadata.loc[top_distances].mash_cluster.value_counts().idxmax()))\n",
    "    strain_mash_clusters.loc[new_strain] = [mash_cluster,\n",
    "                                            mash_distances[new_strain].sort_values().head(5).mean()]"
   ]
  },
  {
   "cell_type": "code",
   "execution_count": null,
   "id": "cc0d3a67-da45-4d9c-8eb1-09250b9b0f5f",
   "metadata": {},
   "outputs": [],
   "source": [
    "strain_mash_clusters"
   ]
  },
  {
   "cell_type": "markdown",
   "id": "6d689e0e-ce39-4dea-9a2a-2ea02a749706",
   "metadata": {},
   "source": [
    "## Assign Phylon Affinities"
   ]
  },
  {
   "cell_type": "code",
   "execution_count": null,
   "id": "564487d5-d9d5-4a7b-b1be-33608cfc3b57",
   "metadata": {},
   "outputs": [],
   "source": [
    "from pyphylon.infer_affinities import *\n",
    "from pyphylon.models import recommended_threshold\n",
    "import seaborn as sns"
   ]
  },
  {
   "cell_type": "code",
   "execution_count": null,
   "id": "a1b8ce40-c579-46a7-bdf8-c05e3ea4075a",
   "metadata": {},
   "outputs": [],
   "source": [
    "P_NEW = os.path.join(WORKDIR, 'inferring_affinities', 'combined_P_matrix.csv')\n",
    "P_new = pd.read_csv(P_NEW, index_col=0)\n",
    "P_new = P_new.reindex(df_genes.index, fill_value=0)\n",
    "\n",
    "P_new_acc = P_new.loc[L_norm.index]"
   ]
  },
  {
   "cell_type": "code",
   "execution_count": null,
   "id": "f488bed3-a6df-432e-ad27-fd05b6e97037",
   "metadata": {},
   "outputs": [],
   "source": [
    "A_new = infer_affinities(L_norm.to_numpy(),  P_new_acc.to_numpy(), n_jobs=4)\n",
    "A_new = pd.DataFrame(A_new, index = L_norm.columns, columns = P_new_acc.columns)"
   ]
  },
  {
   "cell_type": "code",
   "execution_count": null,
   "id": "0647e1cf-7d4a-42e9-b6f9-cfaaa55b0999",
   "metadata": {},
   "outputs": [],
   "source": [
    "# Basic binarization with thresholds from original matrix:\n",
    "A_binarized_new = pd.DataFrame(np.zeros_like(A_new.values), index=A_norm.index, columns=A_new.columns)\n",
    "\n",
    "\n",
    "for idx in A_norm.index: # 90% of threshold for original A matrix used to account for CD-HIT clustering incongruities on strains\n",
    "    cond = A_new.loc[idx] >= recommended_threshold(A_norm, idx.split('n')[1]) * .9\n",
    "    A_binarized_new.loc[idx,cond] = 1\n",
    "\n",
    "sns.heatmap(A_new, cmap='Greys')"
   ]
  }
 ],
 "metadata": {
  "kernelspec": {
   "display_name": "Python pyphylon",
   "language": "python",
   "name": "pyphylontesting"
  },
  "language_info": {
   "codemirror_mode": {
    "name": "ipython",
    "version": 3
   },
   "file_extension": ".py",
   "mimetype": "text/x-python",
   "name": "python",
   "nbconvert_exporter": "python",
   "pygments_lexer": "ipython3",
   "version": "3.12.8"
  }
 },
 "nbformat": 4,
 "nbformat_minor": 5
}
