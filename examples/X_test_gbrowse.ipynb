{
 "cells": [
  {
   "cell_type": "markdown",
   "metadata": {},
   "source": [
    "# Setup"
   ]
  },
  {
   "cell_type": "code",
   "execution_count": 1,
   "metadata": {},
   "outputs": [],
   "source": [
    "import pandas as pd\n",
    "import os\n",
    "\n",
    "from pyphylon.gbrowse import create_cgview\n",
    "from pyphylon.util import load_config\n",
    "from pyphylon.biointerp import get_pg_to_locus_map\n",
    "\n",
    "# NOTE currently script outputs a new HTML file that needs to be viewed in a browser TODO integrate into notebook if possible..."
   ]
  },
  {
   "cell_type": "code",
   "execution_count": 2,
   "metadata": {},
   "outputs": [],
   "source": [
    "CONFIG = load_config(\"config.yml\")\n",
    "WORKDIR = CONFIG[\"WORKDIR\"]\n",
    "SPECIES = CONFIG[\"PG_NAME\"]"
   ]
  },
  {
   "cell_type": "code",
   "execution_count": 3,
   "metadata": {},
   "outputs": [],
   "source": [
    "# Data wrangling to get the functions for each cluster            \n",
    "pg2locus_map = get_pg_to_locus_map(WORKDIR, SPECIES)"
   ]
  },
  {
   "cell_type": "code",
   "execution_count": 5,
   "metadata": {},
   "outputs": [],
   "source": [
    "# Set up cgview params:\n",
    "genome_id = '1314.131'\n",
    "fna_file = os.path.join(WORKDIR, f'processed/bakta/{genome_id}/{genome_id}.fna')\n",
    "features_file = os.path.join(WORKDIR, f'processed/bakta/{genome_id}/{genome_id}.tsv')\n",
    "A_file = os.path.join(WORKDIR, 'processed/nmf-outputs/A.csv')\n",
    "L_file = os.path.join(WORKDIR, 'processed/nmf-outputs/L.csv')\n",
    "cluster2gene_map = pg2locus_map\n",
    "outfile = f'{genome_id}.html'"
   ]
  },
  {
   "cell_type": "code",
   "execution_count": 7,
   "metadata": {},
   "outputs": [
    {
     "name": "stdout",
     "output_type": "stream",
     "text": [
      "0 257\n",
      "5 391\n"
     ]
    }
   ],
   "source": [
    "create_cgview(genome_id, features_file, fna_file, A_file, L_file, cluster2gene_map, outfile)"
   ]
  }
 ],
 "metadata": {
  "kernelspec": {
   "display_name": "pyphylon",
   "language": "python",
   "name": "python3"
  },
  "language_info": {
   "codemirror_mode": {
    "name": "ipython",
    "version": 3
   },
   "file_extension": ".py",
   "mimetype": "text/x-python",
   "name": "python",
   "nbconvert_exporter": "python",
   "pygments_lexer": "ipython3",
   "version": "3.11.11"
  }
 },
 "nbformat": 4,
 "nbformat_minor": 2
}
