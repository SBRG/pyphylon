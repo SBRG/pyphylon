{
 "cells": [
  {
   "cell_type": "markdown",
   "metadata": {},
   "source": [
    "# 2a Clean metadata\n",
    "\n",
    "In this notebook, we will clean our metadata. Primarily, we will be de-duplicating our data in preparation for __Mash__ filtration & clustering"
   ]
  },
  {
   "cell_type": "markdown",
   "metadata": {},
   "source": [
    "## Setup"
   ]
  },
  {
   "cell_type": "code",
   "execution_count": null,
   "metadata": {},
   "outputs": [],
   "source": [
    "import pandas as pd"
   ]
  },
  {
   "cell_type": "code",
   "execution_count": null,
   "metadata": {},
   "outputs": [],
   "source": [
    "downloaded_species_summary = pd.read_csv('data/interim/genome_summary_1b.csv', index_col=0, dtype={'genome_id': str})\n",
    "downloaded_species_metadata = pd.read_csv('data/interim/genome_metadata_1b.csv', index_col=0, dtype={'genome_id': str})\n",
    "\n",
    "\n",
    "display(\n",
    "    downloaded_species_summary.shape,\n",
    "    downloaded_species_summary.head(),\n",
    "    downloaded_species_metadata.shape,\n",
    "    downloaded_species_metadata.head()\n",
    ")"
   ]
  },
  {
   "cell_type": "markdown",
   "metadata": {},
   "source": [
    "## De-duplicate entries"
   ]
  },
  {
   "cell_type": "markdown",
   "metadata": {},
   "source": [
    "### Ensure `biosample_accession` is unique & drop duplicates"
   ]
  },
  {
   "cell_type": "code",
   "execution_count": null,
   "metadata": {},
   "outputs": [],
   "source": [
    "downloaded_species_metadata = downloaded_species_metadata.drop_duplicates(subset=['biosample_accession'])\n",
    "\n",
    "display(\n",
    "    downloaded_species_metadata.shape,\n",
    "    downloaded_species_metadata.head()\n",
    ")"
   ]
  },
  {
   "cell_type": "markdown",
   "metadata": {},
   "source": [
    "### (Optional) Ensure `assembly_accession` is unique\n",
    "\n",
    "Most species have strains which do not have any value for this. For those species it is worth skipping this step. For our example, most strains have information for this column so we will apply this de-duplication too"
   ]
  },
  {
   "cell_type": "code",
   "execution_count": null,
   "metadata": {},
   "outputs": [],
   "source": [
    "# num_na = downloaded_species_metadata['assembly_accession'].isna().sum()\n",
    "\n",
    "# print(f\"{num_na} out of {downloaded_species_metadata.shape[0]} are NaNs: {int(100*num_na/downloaded_species_metadata.shape[0])}%\")"
   ]
  },
  {
   "cell_type": "code",
   "execution_count": null,
   "metadata": {},
   "outputs": [],
   "source": [
    "# downloaded_species_metadata = downloaded_species_metadata.drop_duplicates(subset=['assembly_accession'])\n",
    "\n",
    "# downloaded_species_metadata.shape"
   ]
  },
  {
   "cell_type": "code",
   "execution_count": null,
   "metadata": {},
   "outputs": [],
   "source": [
    "# downloaded_species_summary = downloaded_species_summary.loc[downloaded_species_metadata.index]\n",
    "\n",
    "# downloaded_species_summary.shape"
   ]
  },
  {
   "cell_type": "markdown",
   "metadata": {},
   "source": [
    "## Save files"
   ]
  },
  {
   "cell_type": "code",
   "execution_count": null,
   "metadata": {},
   "outputs": [],
   "source": [
    "# Save files\n",
    "downloaded_species_summary.to_csv('data/interim/genome_summary_2a.csv')\n",
    "downloaded_species_metadata.to_csv('data/interim/genome_metadata_2a.csv')\n"
   ]
  },
  {
   "cell_type": "code",
   "execution_count": null,
   "metadata": {},
   "outputs": [],
   "source": []
  }
 ],
 "metadata": {
  "kernelspec": {
   "display_name": "pyphylon",
   "language": "python",
   "name": "python3"
  },
  "language_info": {
   "codemirror_mode": {
    "name": "ipython",
    "version": 3
   },
   "file_extension": ".py",
   "mimetype": "text/x-python",
   "name": "python",
   "nbconvert_exporter": "python",
   "pygments_lexer": "ipython3",
   "version": "3.11.11"
  }
 },
 "nbformat": 4,
 "nbformat_minor": 2
}
