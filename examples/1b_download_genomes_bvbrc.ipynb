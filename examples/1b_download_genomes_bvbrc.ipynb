{
 "cells": [
  {
   "cell_type": "markdown",
   "metadata": {},
   "source": [
    "# 1b. Download (first-pass) filtered genomes\n",
    "\n",
    "In this notebook, we will use __`pyphylon`__'s `download` module to download candidate genomes for pangenome generation.\n",
    "\n",
    "In this example we will select genomes for download from [BV-BRC](https://www.bv-brc.org/)"
   ]
  },
  {
   "cell_type": "markdown",
   "metadata": {},
   "source": [
    "## Setup"
   ]
  },
  {
   "cell_type": "code",
   "execution_count": null,
   "metadata": {},
   "outputs": [],
   "source": [
    "import os\n",
    "import pandas as pd\n",
    "\n",
    "from tqdm.notebook import tqdm\n",
    "\n",
    "from pyphylon.downloads import download_genomes_bvbrc\n",
    "from pyphylon.util import remove_empty_files, load_config"
   ]
  },
  {
   "cell_type": "code",
   "execution_count": null,
   "metadata": {},
   "outputs": [],
   "source": [
    "CONFIG = load_config(\"config.yml\")\n",
    "WORKDIR = CONFIG[\"WORKDIR\"]\n"
   ]
  },
  {
   "cell_type": "code",
   "execution_count": null,
   "metadata": {},
   "outputs": [],
   "source": [
    "# Make output directories\n",
    "RAW = os.path.join(WORKDIR, \"raw\")\n",
    "RAW_GENOMES = os.path.join(RAW, \"genomes\")\n",
    "if not os.path.exists(RAW):\n",
    "    os.makedirs('data/raw')\n",
    "\n",
    "if not os.path.exists(RAW_GENOMES):\n",
    "    os.makedirs(RAW_GENOMES)"
   ]
  },
  {
   "cell_type": "code",
   "execution_count": null,
   "metadata": {},
   "outputs": [],
   "source": [
    "filtered_species_summary = pd.read_csv(os.path.join(WORKDIR, 'interim/genome_summary_1a.csv'), dtype={'genome_id': str})\n",
    "filtered_species_summary"
   ]
  },
  {
   "cell_type": "code",
   "execution_count": null,
   "metadata": {},
   "outputs": [],
   "source": [
    "filtered_species_metadata = pd.read_csv(os.path.join(WORKDIR, 'interim/genome_metadata_1a.csv'), dtype={'genome_id': str})\n",
    "filtered_species_metadata"
   ]
  },
  {
   "cell_type": "markdown",
   "metadata": {},
   "source": [
    "## Download"
   ]
  },
  {
   "cell_type": "code",
   "execution_count": null,
   "metadata": {},
   "outputs": [],
   "source": [
    "bad_genomes = download_genomes_bvbrc(\n",
    "    genomes=filtered_species_summary[\"genome_id\"],\n",
    "    output_dir=RAW_GENOMES,\n",
    "    filetypes=['fna']\n",
    ")"
   ]
  },
  {
   "cell_type": "code",
   "execution_count": null,
   "metadata": {},
   "outputs": [],
   "source": [
    "empty_files = []\n",
    "for subdir in tqdm(os.listdir(RAW_GENOMES)):\n",
    "    subdir_path = os.path.join(RAW_GENOMES, subdir)\n",
    "    files = remove_empty_files(subdir_path)\n",
    "    empty_files.extend(files)"
   ]
  },
  {
   "cell_type": "code",
   "execution_count": null,
   "metadata": {},
   "outputs": [],
   "source": [
    "print(f\"bad genomes: {len(bad_genomes)}\")\n",
    "print(f\"empty genomes: {len(empty_files)}\")"
   ]
  },
  {
   "cell_type": "markdown",
   "metadata": {},
   "source": [
    "## Update genome info files"
   ]
  },
  {
   "cell_type": "code",
   "execution_count": null,
   "metadata": {},
   "outputs": [],
   "source": [
    "filtered_species_summary['genome_id'] = filtered_species_summary.genome_id.astype('str')\n",
    "downloaded_genomes = set(filtered_species_summary.genome_id) - set(bad_genomes)\n",
    "\n",
    "filtered_species_summary = (filtered_species_summary.\n",
    "                            drop_duplicates(subset=['genome_id']).\n",
    "                            set_index('genome_id').\n",
    "                            loc[sorted(downloaded_genomes)].\n",
    "                            reset_index())\n",
    "\n",
    "\n",
    "display(\n",
    "    filtered_species_summary.shape,\n",
    "    filtered_species_summary.head()\n",
    ")"
   ]
  },
  {
   "cell_type": "code",
   "execution_count": null,
   "metadata": {},
   "outputs": [],
   "source": [
    "filtered_species_metadata['genome_id'] = filtered_species_metadata.genome_id.astype('str')\n",
    "\n",
    "filtered_species_metadata = (filtered_species_metadata.\n",
    "                            drop_duplicates(subset=['genome_id']).\n",
    "                            set_index('genome_id').\n",
    "                            loc[sorted(downloaded_genomes)].\n",
    "                            reset_index())\n",
    "\n",
    "\n",
    "display(\n",
    "    filtered_species_metadata.shape,\n",
    "    filtered_species_metadata.head()\n",
    ")"
   ]
  },
  {
   "cell_type": "code",
   "execution_count": null,
   "metadata": {},
   "outputs": [],
   "source": [
    "# Save files\n",
    "filtered_species_summary.to_csv('data/interim/genome_summary_1b.csv')\n",
    "filtered_species_metadata.to_csv('data/interim/genome_metadata_1b.csv')"
   ]
  },
  {
   "cell_type": "code",
   "execution_count": null,
   "metadata": {},
   "outputs": [],
   "source": []
  },
  {
   "cell_type": "code",
   "execution_count": null,
   "metadata": {},
   "outputs": [],
   "source": []
  }
 ],
 "metadata": {
  "kernelspec": {
   "display_name": "pyphylon",
   "language": "python",
   "name": "python3"
  },
  "language_info": {
   "codemirror_mode": {
    "name": "ipython",
    "version": 3
   },
   "file_extension": ".py",
   "mimetype": "text/x-python",
   "name": "python",
   "nbconvert_exporter": "python",
   "pygments_lexer": "ipython3",
   "version": "3.11.11"
  }
 },
 "nbformat": 4,
 "nbformat_minor": 2
}
