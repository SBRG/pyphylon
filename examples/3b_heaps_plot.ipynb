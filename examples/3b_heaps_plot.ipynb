{
 "cells": [
  {
   "cell_type": "markdown",
   "metadata": {},
   "source": [
    "# Setup"
   ]
  },
  {
   "cell_type": "code",
   "execution_count": null,
   "metadata": {},
   "outputs": [],
   "source": [
    "import os\n",
    "import pickle\n",
    "\n",
    "import numpy as np\n",
    "import pandas as pd\n",
    "import scipy\n",
    "\n",
    "import matplotlib\n",
    "from matplotlib import pyplot as plt\n",
    "import seaborn as sns\n",
    "import plotly.express as px\n",
    "\n",
    "from tqdm.notebook import tqdm, trange\n",
    "\n",
    "\n",
    "from pyphylon.pangenome import estimate_pan_core_size, fit_heaps_by_iteration\n",
    "from pyphylon.util import load_config"
   ]
  },
  {
   "cell_type": "code",
   "execution_count": null,
   "metadata": {},
   "outputs": [],
   "source": [
    "CONFIG = load_config(\"config.yml\")\n",
    "WORKDIR = CONFIG[\"WORKDIR\"]\n",
    "SPECIES = CONFIG[\"PG_NAME\"]"
   ]
  },
  {
   "cell_type": "code",
   "execution_count": null,
   "metadata": {},
   "outputs": [],
   "source": [
    "import random\n",
    "\n",
    "random.seed(42) # set random seed for reproducibility"
   ]
  },
  {
   "cell_type": "code",
   "execution_count": null,
   "metadata": {},
   "outputs": [],
   "source": [
    "matplotlib.rcParams['pdf.fonttype'] = 42\n",
    "plt.rcParams[\"figure.dpi\"] = 300\n",
    "sns.set_palette(\"deep\")\n",
    "sns.set_context(\"paper\")\n",
    "sns.set_style(\"whitegrid\")"
   ]
  },
  {
   "cell_type": "code",
   "execution_count": null,
   "metadata": {},
   "outputs": [],
   "source": [
    "df_genes = pd.read_pickle(os.path.join(WORKDIR, f'processed/cd-hit-results/{SPECIES}_strain_by_gene.pickle.gz'))\n",
    "df_genes.fillna(0, inplace=True)\n",
    "df_genes = df_genes.sparse.to_dense().astype('int8')\n",
    "\n",
    "display(\n",
    "    df_genes.shape,\n",
    "    df_genes.head()\n",
    ")"
   ]
  },
  {
   "cell_type": "code",
   "execution_count": null,
   "metadata": {},
   "outputs": [],
   "source": [
    "metadata = pd.read_csv(os.path.join(WORKDIR, 'interim/mash_scrubbed_species_metadata_2b.csv'), index_col=0, dtype='object')\n",
    "\n",
    "display(\n",
    "    metadata.shape,\n",
    "    metadata.head()\n",
    ")"
   ]
  },
  {
   "cell_type": "code",
   "execution_count": null,
   "metadata": {},
   "outputs": [],
   "source": [
    "# Filter metadata for Complete sequences only\n",
    "metadata_complete = metadata[metadata.genome_status == 'Complete'] # filter for only Complete sequences\n",
    "\n",
    "# Filter P matrix for Complete sequences only\n",
    "df_genes_complete = df_genes[metadata_complete.genome_id].copy()\n",
    "inCompleteseqs = df_genes_complete.sum(axis=1) > 0 # filter for genes found in complete sequences\n",
    "df_genes_complete = df_genes_complete[inCompleteseqs]\n",
    "\n",
    "df_genes_complete.shape"
   ]
  },
  {
   "cell_type": "markdown",
   "metadata": {},
   "source": [
    "# Heaps' Law Plot for CAR genomes"
   ]
  },
  {
   "cell_type": "markdown",
   "metadata": {},
   "source": [
    "## Total (Complete + WGS)"
   ]
  },
  {
   "cell_type": "code",
   "execution_count": null,
   "metadata": {},
   "outputs": [],
   "source": [
    "# Generate sparse dataframe (needed for function to work)\n",
    "df_genes_sparse = df_genes.astype(pd.SparseDtype(\"int8\", 0))\n",
    "\n",
    "# Estimate pan/core curve\n",
    "df_pan_core = estimate_pan_core_size(df_genes_sparse, num_iter=20, log_batch=1) # generate pan/core size curves"
   ]
  },
  {
   "cell_type": "code",
   "execution_count": null,
   "metadata": {},
   "outputs": [],
   "source": [
    "df_pan_core"
   ]
  },
  {
   "cell_type": "code",
   "execution_count": null,
   "metadata": {},
   "outputs": [],
   "source": [
    "output_pan = fit_heaps_by_iteration(df_pan_core, section='pan')\n",
    "output_acc = fit_heaps_by_iteration(df_pan_core, section='acc')\n",
    "output_rare = fit_heaps_by_iteration(df_pan_core, section='rare')"
   ]
  },
  {
   "cell_type": "code",
   "execution_count": null,
   "metadata": {},
   "outputs": [],
   "source": [
    "output_core = fit_heaps_by_iteration(df_pan_core, section='core')\n"
   ]
  },
  {
   "cell_type": "code",
   "execution_count": null,
   "metadata": {},
   "outputs": [],
   "source": [
    "# Heaps' Law coefficient\n",
    "# This determines how open/closed your pangenome is\n",
    "output_pan.lambda_.mean()"
   ]
  },
  {
   "cell_type": "code",
   "execution_count": null,
   "metadata": {},
   "outputs": [],
   "source": [
    "x = list(range(1, df_genes.shape[1]+1))\n",
    "\n",
    "y_core = output_core.kappa.mean() * np.array(x) ** output_core.lambda_.mean()\n",
    "y_acc = output_acc.kappa.mean() * np.array(x) ** output_acc.lambda_.mean()\n",
    "y_rare = output_rare.kappa.mean() * np.array(x) ** output_rare.lambda_.mean()"
   ]
  },
  {
   "cell_type": "code",
   "execution_count": null,
   "metadata": {},
   "outputs": [],
   "source": [
    "# Log-linear plot\n",
    "fig, ax = plt.subplots()\n",
    "\n",
    "ax.stackplot(x, y_core, y_acc, y_rare)\n",
    "ax.set_yscale('log')\n",
    "ax.grid(False)\n",
    "plt.show()"
   ]
  }
 ],
 "metadata": {
  "kernelspec": {
   "display_name": "pyphylon",
   "language": "python",
   "name": "python3"
  },
  "language_info": {
   "codemirror_mode": {
    "name": "ipython",
    "version": 3
   },
   "file_extension": ".py",
   "mimetype": "text/x-python",
   "name": "python",
   "nbconvert_exporter": "python",
   "pygments_lexer": "ipython3",
   "version": "3.11.11"
  }
 },
 "nbformat": 4,
 "nbformat_minor": 2
}
