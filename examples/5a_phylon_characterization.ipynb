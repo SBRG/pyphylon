{
 "cells": [
  {
   "cell_type": "markdown",
   "metadata": {},
   "source": [
    "# Setup"
   ]
  },
  {
   "cell_type": "code",
   "execution_count": null,
   "metadata": {},
   "outputs": [],
   "source": [
    "# Base imports\n",
    "import os\n",
    "import pickle\n",
    "\n",
    "# Compute imports\n",
    "import numpy as np\n",
    "import pandas as pd\n",
    "import scipy\n",
    "from tqdm.notebook import tqdm, trange\n",
    "\n",
    "# Plotting imports\n",
    "import matplotlib\n",
    "matplotlib.rcParams['pdf.fonttype'] = 42\n",
    "from matplotlib import pyplot as plt\n",
    "import seaborn as sns\n",
    "from plotly import express as px\n",
    "\n",
    "# ML import\n",
    "from sklearn.decomposition import NMF\n",
    "from sklearn.cluster import KMeans\n",
    "from sklearn.linear_model import LinearRegression\n",
    "from sklearn.metrics import mean_squared_error, median_absolute_error, r2_score\n",
    "from pyphylon.util import load_config\n",
    "from pyphylon.models import recommended_threshold\n"
   ]
  },
  {
   "cell_type": "code",
   "execution_count": null,
   "metadata": {},
   "outputs": [],
   "source": [
    "CONFIG = load_config(\"config.yml\")\n",
    "WORKDIR = CONFIG[\"WORKDIR\"]\n",
    "SPECIES = CONFIG[\"PG_NAME\"]"
   ]
  },
  {
   "cell_type": "code",
   "execution_count": null,
   "metadata": {},
   "outputs": [],
   "source": [
    "DF_GENES = os.path.join(WORKDIR, f'processed/cd-hit-results/{SPECIES}_strain_by_gene.pickle.gz')\n",
    "ENRICHED_METADATA = os.path.join(WORKDIR, 'interim/enriched_metadata_2d.csv')\n",
    "#DF_EGGNOG = '/media/pekar2/pan_phylon/Enterobacter/processed/df_eggnog.csv'\n",
    "\n",
    "DF_CORE_COMPLETE = os.path.join(WORKDIR, f'processed/CAR_genomes/df_core.csv')\n",
    "DF_ACC_COMPLETE = os.path.join(WORKDIR, f'processed/CAR_genomes/df_acc.csv')\n",
    "DF_RARE_COMPLETE = os.path.join(WORKDIR, f'processed/CAR_genomes/df_rare.csv')\n",
    "\n",
    "L_MATRIX = os.path.join(WORKDIR, f'processed/nmf-outputs/L.csv')\n",
    "A_MATRIX = os.path.join(WORKDIR, f'processed/nmf-outputs/A.csv')"
   ]
  },
  {
   "cell_type": "code",
   "execution_count": null,
   "metadata": {},
   "outputs": [],
   "source": [
    "# Load in (full) P matrix\n",
    "df_genes = pd.read_pickle(DF_GENES)\n",
    "\n",
    "# Load in (full) metadata\n",
    "metadata = pd.read_csv(ENRICHED_METADATA, index_col=0, dtype='object')\n",
    "\n",
    "# Load in eggNOG gene annotations\n",
    "#df_eggnog = pd.read_csv(DF_EGGNOG, index_col=0, dtype='object')"
   ]
  },
  {
   "cell_type": "code",
   "execution_count": null,
   "metadata": {},
   "outputs": [],
   "source": [
    "# Filter metadata for Complete sequences only\n",
    "metadata_complete = metadata[metadata.genome_status == 'Complete'] # filter for only Complete sequences\n",
    "\n",
    "# Filter P matrix for Complete sequences only\n",
    "df_genes_complete = df_genes[metadata_complete.genome_id]\n",
    "df_genes_complete = df_genes_complete.fillna(0) # replace N/A with 0\n",
    "df_genes_complete = df_genes_complete.sparse.to_dense().astype('int8') # densify & typecast to int8 for space and compute reasons\n",
    "inCompleteseqs = df_genes_complete.sum(axis=1) > 0 # filter for genes found in complete sequences\n",
    "df_genes_complete = df_genes_complete[inCompleteseqs]\n",
    "\n",
    "df_genes_complete.shape"
   ]
  },
  {
   "cell_type": "code",
   "execution_count": null,
   "metadata": {},
   "outputs": [],
   "source": [
    "df_core_complete = pd.read_csv(DF_CORE_COMPLETE, index_col=0)\n",
    "df_acc_complete = pd.read_csv(DF_ACC_COMPLETE, index_col=0)\n",
    "df_rare_complete = pd.read_csv(DF_RARE_COMPLETE, index_col=0)\n",
    "\n",
    "df_acc_complete.shape"
   ]
  },
  {
   "cell_type": "code",
   "execution_count": null,
   "metadata": {},
   "outputs": [],
   "source": [
    "L = pd.read_csv(L_MATRIX, index_col=0)\n",
    "A = pd.read_csv(A_MATRIX, index_col=0)\n",
    "\n",
    "A.index = [f'phylon{x}' for x in A.index]\n",
    "L.columns = [f'phylon{x}' for x in L.columns]\n",
    "\n",
    "display(\n",
    "    L.shape,\n",
    "    L.head(),\n",
    "    A.shape,\n",
    "    A.head()\n",
    ")"
   ]
  },
  {
   "cell_type": "markdown",
   "metadata": {},
   "source": [
    "# Normalize L and A matrices"
   ]
  },
  {
   "cell_type": "code",
   "execution_count": null,
   "metadata": {},
   "outputs": [],
   "source": [
    "normalization_vals = [1/np.quantile(L[col], q=0.99) for col in L.columns]\n",
    "recipricol_vals = [1/x for x in normalization_vals]\n",
    "\n",
    "D1 = np.diag(normalization_vals)\n",
    "D2 = np.diag(recipricol_vals)\n",
    "\n",
    "sns.heatmap(pd.DataFrame(np.dot(D1,D2)), cmap='hot_r', annot=True) # Ensure they multiply to Identity"
   ]
  },
  {
   "cell_type": "code",
   "execution_count": null,
   "metadata": {},
   "outputs": [],
   "source": [
    "L_norm = pd.DataFrame(np.dot(L, D1), index=L.index, columns=L.columns)\n",
    "A_norm = pd.DataFrame(np.dot(D2, A), index=A.index, columns=A.columns)"
   ]
  },
  {
   "cell_type": "code",
   "execution_count": null,
   "metadata": {},
   "outputs": [],
   "source": [
    "# Plot initial L_norm clustermap\n",
    "sns.clustermap(L_norm,\n",
    "               method='ward',\n",
    "               cmap='hot_r',\n",
    "               yticklabels=False,\n",
    "               robust=True\n",
    "              )"
   ]
  },
  {
   "cell_type": "markdown",
   "metadata": {},
   "source": [
    "# Binarize L matrix by 3-means clustering (`L_binarized`)"
   ]
  },
  {
   "cell_type": "code",
   "execution_count": null,
   "metadata": {},
   "outputs": [],
   "source": [
    "# Initialize an empty array to hold the binarized matrix\n",
    "L_binarized = np.zeros_like(L_norm.values)\n",
    "\n",
    "# Loop through each column\n",
    "for col_idx in trange(L_norm.values.shape[1]):\n",
    "    column_data = L_norm.values[:, col_idx]\n",
    "\n",
    "    # Reshape the column data to fit the KMeans input shape\n",
    "    column_data_reshaped = column_data.reshape(-1, 1)\n",
    "\n",
    "    # Apply 3-means clustering (generally better precision-recall tradeoff than 2-means)\n",
    "    kmeans = KMeans(n_clusters=3, random_state=0, n_init='auto')\n",
    "    kmeans.fit(column_data_reshaped)\n",
    "    labels = kmeans.labels_\n",
    "    centers = kmeans.cluster_centers_\n",
    "\n",
    "    # Find the cluster with the highest mean\n",
    "    highest_mean_cluster = np.argmax(centers)\n",
    "\n",
    "    # Binarize the column based on the cluster with the highest mean\n",
    "    binarized_column = (labels == highest_mean_cluster).astype(int)\n",
    "\n",
    "    # Update the binarized matrix\n",
    "    L_binarized[:, col_idx] = binarized_column\n",
    "\n",
    "# Typecast to DataFrame\n",
    "L_binarized = pd.DataFrame(L_binarized, index=L_norm.index, columns=L_norm.columns)"
   ]
  },
  {
   "cell_type": "markdown",
   "metadata": {},
   "source": [
    "# Characterize phylons by strain affinity (`A_binarized`)\n",
    "\n",
    "`L_norm`, `A_norm`, & `L_binarized` will also have their phylons renamed to match this characterization\n",
    "\n",
    "__NOTE:__ the first one is provided as an example, please continue doing this for all other phylons until you have characterized everything"
   ]
  },
  {
   "cell_type": "markdown",
   "metadata": {},
   "source": [
    "## Plotting strain affinities for each phylon"
   ]
  },
  {
   "cell_type": "code",
   "execution_count": null,
   "metadata": {},
   "outputs": [],
   "source": [
    "# phylon affinity distribution by MLST (go ahead and add in species coloring if you want for Enterobacter, it will aid in characterization)\n",
    "# For this case, the recommended threshold may be too high (a value of 1 or 0.8 would be more suited to be threshold)\n",
    "i = 0\n",
    "\n",
    "display(\n",
    "    px.histogram(A_norm.loc[f'phylon{i}'], color=metadata_complete.mlst, log_y=True),\n",
    "    f'recommdended threshold: {recommended_threshold(A_norm, i)}'\n",
    ")"
   ]
  },
  {
   "cell_type": "markdown",
   "metadata": {},
   "source": [
    "## High affinity strains"
   ]
  },
  {
   "cell_type": "code",
   "execution_count": null,
   "metadata": {},
   "outputs": [],
   "source": [
    "# Change this to another value if you are using another threshold besides the recommended one\n",
    "# Generally you want this value to be no less than 0.6\n",
    "curr_threshold = recommended_threshold(A_norm, i)"
   ]
  },
  {
   "cell_type": "code",
   "execution_count": null,
   "metadata": {},
   "outputs": [],
   "source": [
    "high_affinity = A_norm.loc[f'phylon{i}'] >= curr_threshold\n",
    "high_affinity_strains = A_norm.loc[f'phylon{i}'][high_affinity].index\n",
    "\n",
    "# You can add in species classification here too\n",
    "display(\n",
    "    metadata.set_index('genome_id').loc[high_affinity_strains].mlst.value_counts(),\n",
    "    metadata.set_index('genome_id').loc[high_affinity_strains].bioproject_accession.value_counts()\n",
    ")"
   ]
  },
  {
   "cell_type": "markdown",
   "metadata": {},
   "source": [
    "## Max affinity strain"
   ]
  },
  {
   "cell_type": "code",
   "execution_count": null,
   "metadata": {},
   "outputs": [],
   "source": [
    "metadata.set_index('genome_id').loc[A_norm.loc[f'phylon{i}'].idxmax()] # max affinity strain"
   ]
  },
  {
   "cell_type": "markdown",
   "metadata": {},
   "source": [
    "## Mapping and thresholds"
   ]
  },
  {
   "cell_type": "code",
   "execution_count": null,
   "metadata": {},
   "outputs": [],
   "source": [
    "# Change the names of the phylons once you have characterized them\n",
    "# If you cannot find an initial characterization, label it \"unchar-x\"\n",
    "# where x is the number\n",
    "\n",
    "# phylon_mapping = {\n",
    "#     'phylon0': 'A-Thailand',\n",
    "#     'phylon1': 'E-ST11',\n",
    "#     'phylon2': 'B2-other',\n",
    "#     'phylon3': 'A-K12',\n",
    "#     'phylon4': 'D-ST38',\n",
    "#     'phylon5': 'A-other',\n",
    "# }"
   ]
  },
  {
   "cell_type": "markdown",
   "metadata": {},
   "source": []
  },
  {
   "cell_type": "code",
   "execution_count": null,
   "metadata": {},
   "outputs": [],
   "source": [
    "# Set thresholds with k-means as a guide\n",
    "# if you are changing the threshold from the recommended value,\n",
    "# add in the k-means suggestion as a comment\n",
    "\n",
    "# A_thresholds = {\n",
    "#     'A-Thailand': 0.55,\n",
    "#     'E-ST11': 0.60, # k-means suggestion: 0.78\n",
    "#     'B2-other': 0.76,\n",
    "#     'A-K12': 0.79,\n",
    "#     'D-ST38': 0.64,\n",
    "#     'A-other': 0.54,\n",
    "#     'B2-ST131': 0.60, # k-means suggestion: 0.87\n",
    "#     'Shigella-flexneri': 0.68,\n",
    "#     'B1-other': 0.59,\n",
    "#     'B1-ShigaToxin': 0.91,\n",
    "#     'Shigella-sonnei': 0.91,\n",
    "#     'unchar-1': 0.32,\n",
    "#     'C': 0.60, # k-means suggestion: 0.90\n",
    "#     'F': 0.70, # k-means suggestion: 0.85\n",
    "#     'A-BL21': 0.70, # k-means suggestion: 0.85\n",
    "#     'D-ST32': 1.0,\n",
    "# }"
   ]
  },
  {
   "cell_type": "code",
   "execution_count": null,
   "metadata": {},
   "outputs": [],
   "source": [
    "# L_norm.rename(mapper=phylon_mapping, axis=1, inplace=True)\n",
    "# L_binarized.rename(mapper=phylon_mapping, axis=1, inplace=True)\n",
    "# A_norm.rename(mapper=phylon_mapping, axis=0, inplace=True)"
   ]
  },
  {
   "cell_type": "code",
   "execution_count": null,
   "metadata": {},
   "outputs": [],
   "source": [
    "A_binarized = pd.DataFrame(np.zeros_like(A_norm.values), index=A_norm.index, columns=A_norm.columns)\n",
    "\n",
    "for idx in A_binarized.index: # same as A_norm.index\n",
    "    cond = A_norm.loc[idx] >= 0.5 # no adjusting threshold\n",
    "    A_binarized.loc[idx,cond] = 1"
   ]
  },
  {
   "cell_type": "code",
   "execution_count": null,
   "metadata": {},
   "outputs": [],
   "source": [
    "sns.heatmap(A_binarized, cmap='Greys', xticklabels=False) # Sanity check"
   ]
  },
  {
   "cell_type": "markdown",
   "metadata": {},
   "source": [
    "# Plot `L_norm` & `L_binarized` matrices"
   ]
  },
  {
   "cell_type": "code",
   "execution_count": null,
   "metadata": {},
   "outputs": [],
   "source": [
    "# Plot renamed L_norm clustermap\n",
    "g = sns.clustermap(L_norm,\n",
    "                   method='ward',\n",
    "                   cmap='hot_r',\n",
    "                   yticklabels=False,\n",
    "                   robust=True\n",
    "                  )"
   ]
  },
  {
   "cell_type": "code",
   "execution_count": null,
   "metadata": {},
   "outputs": [],
   "source": [
    "# Plot renamed L_binarized clustermap\n",
    "g_bin = sns.clustermap(L_binarized,\n",
    "                       method='ward',\n",
    "                       metric='euclidean', # metric must be euclidean for ward (even if binarized)\n",
    "                       cmap='Greys',\n",
    "                       yticklabels=False,\n",
    "                       robust=True\n",
    "                      )"
   ]
  },
  {
   "cell_type": "code",
   "execution_count": null,
   "metadata": {},
   "outputs": [],
   "source": [
    "phylon_order = g_bin.data2d.columns.to_list()"
   ]
  },
  {
   "cell_type": "markdown",
   "metadata": {},
   "source": [
    "## Uncover relationship between `gene freq` and `num of active phylons`"
   ]
  },
  {
   "cell_type": "code",
   "execution_count": null,
   "metadata": {},
   "outputs": [],
   "source": [
    "px.histogram(L_binarized.sum(axis=1), color=L_binarized.sum(axis=1))\n",
    "\n",
    "# xx (z%) genes in 0 phylons\n",
    "# xx (z%) genes in yy phylons (all phylons minus unchar-modes)\n",
    "# xx genes (z%) in only 1 phylon (genes with most differentiating power)\n",
    "# xx genes (z%) in 2 phylons"
   ]
  },
  {
   "cell_type": "code",
   "execution_count": null,
   "metadata": {},
   "outputs": [],
   "source": [
    "pd.DataFrame(L_binarized.sum(axis=1).value_counts()).sort_index().cumsum() # Cum sum"
   ]
  },
  {
   "cell_type": "code",
   "execution_count": null,
   "metadata": {},
   "outputs": [],
   "source": [
    "# Cum sum line plot\n",
    "sns.lineplot(pd.DataFrame(L_binarized.sum(axis=1).value_counts()).sort_index().cumsum())"
   ]
  },
  {
   "cell_type": "code",
   "execution_count": null,
   "metadata": {},
   "outputs": [],
   "source": [
    "df_gene_freq_by_phylon = pd.DataFrame(index=L_binarized.index)\n",
    "\n",
    "df_gene_freq_by_phylon['num_active_phylons'] = L_binarized.sum(axis=1)\n",
    "df_gene_freq_by_phylon['gene_freq'] = df_genes.loc[L_binarized.index].sum(axis=1)\n",
    "df_gene_freq_by_phylon['gene_freq'] = df_gene_freq_by_phylon['gene_freq'].sparse.to_dense()\n",
    "\n",
    "# Create a Linear Regression model\n",
    "model = LinearRegression()\n",
    "\n",
    "# Fit the model\n",
    "X = df_gene_freq_by_phylon['gene_freq'].values.reshape(-1,1)\n",
    "y = df_gene_freq_by_phylon['num_active_phylons'].values\n",
    "model.fit(X, y)\n",
    "\n",
    "# Predict the y-values\n",
    "y_pred = model.predict(X)\n",
    "\n",
    "# Extract coefficients (slope) and intercept from the model\n",
    "slope = model.coef_\n",
    "intercept = model.intercept_\n",
    "\n",
    "# Calculate R^2 value\n",
    "r2 = r2_score(y, y_pred)\n",
    "\n",
    "# Display results\n",
    "print(f'Line of best fit: y={slope}*x + {intercept}')\n",
    "print(f'R2 score: {r2}')\n",
    "\n",
    "ax = sns.regplot(df_gene_freq_by_phylon, x='gene_freq', y='num_active_phylons')\n",
    "plt.show()"
   ]
  },
  {
   "cell_type": "markdown",
   "metadata": {},
   "source": [
    "# Plot `L_binarized` with sorted genes & phylons"
   ]
  },
  {
   "cell_type": "code",
   "execution_count": null,
   "metadata": {},
   "outputs": [],
   "source": [
    "gene_order = []\n",
    "\n",
    "# Add in zero-phylon genes\n",
    "zero_cond = L_binarized.sum(axis=1) == 0\n",
    "gene_order.extend(L_binarized[zero_cond].index)\n",
    "\n",
    "# Add in single-phylon genes\n",
    "for phylon in phylon_order:\n",
    "    single_cond = L_binarized.sum(axis=1) == 1\n",
    "    inPhylon = L_binarized[phylon] == 1\n",
    "    gene_order.extend(L_binarized[inPhylon & single_cond].index)\n",
    "\n",
    "# Add in poly-phylon genes\n",
    "for num_active_phylons in trange(2, int(L_binarized.sum(axis=1).max())+1):\n",
    "    num_cond = L_binarized.sum(axis=1) == num_active_phylons\n",
    "    gg = sns.clustermap(L_binarized[num_cond], method='ward', metric='euclidean', col_cluster=False, yticklabels=False);\n",
    "    gene_order.extend(gg.data2d.index)"
   ]
  },
  {
   "cell_type": "code",
   "execution_count": null,
   "metadata": {},
   "outputs": [],
   "source": [
    "# Main sorted clustermap\n",
    "\n",
    "g = sns.clustermap(\n",
    "    L_binarized.loc[gene_order],\n",
    "    method='ward',\n",
    "    metric='euclidean',\n",
    "    row_cluster=False,\n",
    "    yticklabels=False,\n",
    "    cmap='Greys'\n",
    ")"
   ]
  },
  {
   "cell_type": "code",
   "execution_count": null,
   "metadata": {},
   "outputs": [],
   "source": [
    "# Histogram of genes in L_binarized by num of phylons they are active in\n",
    "fig, ax = plt.subplots()\n",
    "sns.histplot(L_binarized.sum(axis=1), binwidth=1, ax=ax)\n",
    "plt.show()"
   ]
  },
  {
   "cell_type": "markdown",
   "metadata": {},
   "source": [
    "# Plot sorted, corresponding A_binarized matrix"
   ]
  },
  {
   "cell_type": "code",
   "execution_count": null,
   "metadata": {},
   "outputs": [],
   "source": [
    "strain_order = []\n",
    "unchar_strain_order = []\n",
    "\n",
    "\n",
    "# zero-phylon strains (66, 3%)\n",
    "noPhylon = A_binarized.sum() == 0\n",
    "strain_order.extend(A_binarized.sum()[noPhylon].index.tolist())\n",
    "\n",
    "# strain lists\n",
    "single_phylon_strains = A_binarized.sum()[A_binarized.sum() == 1].index # 715 (30%)\n",
    "multi_phylon_strains = A_binarized.sum()[A_binarized.sum() > 1].index # 1596 (67%)\n",
    "\n",
    "for phylon in phylon_order:\n",
    "    if 'unchar' in phylon:\n",
    "        continue\n",
    "    else:\n",
    "        phylon_aff_binarized_single = A_binarized.loc[phylon, single_phylon_strains]\n",
    "        phylon_aff_binarized_multi = A_binarized.loc[phylon, multi_phylon_strains]\n",
    "    \n",
    "        inPhylon_single = phylon_aff_binarized_single == 1\n",
    "        inPhylon_multi = phylon_aff_binarized_multi == 1\n",
    "    \n",
    "        list1 = phylon_aff_binarized_single[inPhylon_single].index.tolist()\n",
    "        list2 = phylon_aff_binarized_multi[inPhylon_multi].index.tolist()\n",
    "        new_list2 = list(set(list2) - set(strain_order)) # ensures no double-counting\n",
    "        \n",
    "        strain_order.extend(list1)\n",
    "        strain_order.extend(new_list2)\n",
    "\n",
    "for phylon in phylon_order: # must be done after the first loop\n",
    "    if 'unchar' in phylon:\n",
    "        phylon_aff_binarized_single = A_binarized.loc[phylon, single_phylon_strains]\n",
    "        phylon_aff_binarized_multi = A_binarized.loc[phylon, multi_phylon_strains]\n",
    "    \n",
    "        inPhylon_single = phylon_aff_binarized_single == 1\n",
    "        inPhylon_multi = phylon_aff_binarized_multi == 1\n",
    "    \n",
    "        list1 = phylon_aff_binarized_single[inPhylon_single].index.tolist()\n",
    "        list2 = phylon_aff_binarized_multi[inPhylon_multi].index.tolist()\n",
    "        new_list1 = list(set(list1) - set(strain_order)) # ensures no double-counting\n",
    "        new_list2 = list(set(list2) - set(strain_order)) # ensures no double-counting\n",
    "        \n",
    "        strain_order.extend(new_list1)\n",
    "        strain_order.extend(new_list2)\n",
    "\n",
    "strain_order += unchar_strain_order\n",
    "\n",
    "len(strain_order)"
   ]
  },
  {
   "cell_type": "code",
   "execution_count": null,
   "metadata": {},
   "outputs": [],
   "source": [
    "A_binarized"
   ]
  },
  {
   "cell_type": "code",
   "execution_count": null,
   "metadata": {},
   "outputs": [],
   "source": [
    "sns.clustermap(A_binarized.loc[phylon_order, strain_order], cmap='Greys', xticklabels=False, row_cluster=False, col_cluster=False)"
   ]
  },
  {
   "cell_type": "markdown",
   "metadata": {},
   "source": [
    "# Save L and A matrices"
   ]
  },
  {
   "cell_type": "code",
   "execution_count": null,
   "metadata": {},
   "outputs": [],
   "source": [
    "L_NORM = os.path.join(WORKDIR, 'processed/nmf-outputs/L_norm.csv')\n",
    "A_NORM = os.path.join(WORKDIR, 'processed/nmf-outputs/A_norm.csv')\n",
    "\n",
    "L_BIN = os.path.join(WORKDIR, 'processed/nmf-outputs/L_binarized.csv')\n",
    "A_BIN = os.path.join(WORKDIR, 'processed/nmf-outputs/A_binarized.csv')"
   ]
  },
  {
   "cell_type": "code",
   "execution_count": null,
   "metadata": {},
   "outputs": [],
   "source": [
    "# Normalized matrices\n",
    "L_norm.to_csv(L_NORM)\n",
    "A_norm.to_csv(A_NORM)\n",
    "\n",
    "# Binarized matrices\n",
    "L_binarized.to_csv(L_BIN)\n",
    "A_binarized.to_csv(A_BIN)"
   ]
  },
  {
   "cell_type": "markdown",
   "metadata": {},
   "source": []
  }
 ],
 "metadata": {
  "kernelspec": {
   "display_name": "pyphylon",
   "language": "python",
   "name": "python3"
  },
  "language_info": {
   "codemirror_mode": {
    "name": "ipython",
    "version": 3
   },
   "file_extension": ".py",
   "mimetype": "text/x-python",
   "name": "python",
   "nbconvert_exporter": "python",
   "pygments_lexer": "ipython3",
   "version": "3.11.11"
  }
 },
 "nbformat": 4,
 "nbformat_minor": 2
}
