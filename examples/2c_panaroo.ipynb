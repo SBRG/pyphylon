{
 "cells": [
  {
   "cell_type": "code",
   "execution_count": 1,
   "id": "6cbd4155-05a7-459e-85a5-ad34169c8441",
   "metadata": {},
   "outputs": [],
   "source": [
    "import pickle\n",
    "import os\n",
    "\n",
    "import pandas as pd\n",
    "import numpy as np\n",
    "from tqdm.notebook import tqdm\n",
    "\n",
    "from matplotlib import pyplot as plt\n",
    "import seaborn as sns\n",
    "import plotly.express as px\n",
    "import pandas as pd\n",
    "plt.rcParams[\"figure.dpi\"] = 200\n",
    "sns.set_palette(\"deep\")\n",
    "sns.set_context(\"paper\")\n",
    "sns.set_style(\"whitegrid\")\n",
    "from pyphylon.util import load_config\n",
    "\n",
    "import gzip"
   ]
  },
  {
   "cell_type": "code",
   "execution_count": 2,
   "id": "1410eb75-5b19-491f-88b3-c4049147706e",
   "metadata": {},
   "outputs": [],
   "source": [
    "CONFIG = load_config(\"config.yml\")\n",
    "WORKDIR = CONFIG[\"WORKDIR\"]\n",
    "SPECIES = CONFIG[\"PG_NAME\"]"
   ]
  },
  {
   "cell_type": "code",
   "execution_count": 3,
   "id": "7d3b92fb-f001-4ec3-8075-94986e499fff",
   "metadata": {},
   "outputs": [
    {
     "data": {
      "text/plain": [
       "(3, 66)"
      ]
     },
     "metadata": {},
     "output_type": "display_data"
    },
    {
     "data": {
      "text/html": [
       "<div>\n",
       "<style scoped>\n",
       "    .dataframe tbody tr th:only-of-type {\n",
       "        vertical-align: middle;\n",
       "    }\n",
       "\n",
       "    .dataframe tbody tr th {\n",
       "        vertical-align: top;\n",
       "    }\n",
       "\n",
       "    .dataframe thead th {\n",
       "        text-align: right;\n",
       "    }\n",
       "</style>\n",
       "<table border=\"1\" class=\"dataframe\">\n",
       "  <thead>\n",
       "    <tr style=\"text-align: right;\">\n",
       "      <th></th>\n",
       "      <th>genome_id</th>\n",
       "      <th>genome_name</th>\n",
       "      <th>organism_name</th>\n",
       "      <th>taxon_id</th>\n",
       "      <th>genome_status</th>\n",
       "      <th>strain</th>\n",
       "      <th>serovar</th>\n",
       "      <th>biovar</th>\n",
       "      <th>pathovar</th>\n",
       "      <th>mlst</th>\n",
       "      <th>...</th>\n",
       "      <th>motility</th>\n",
       "      <th>sporulation</th>\n",
       "      <th>temperature_range</th>\n",
       "      <th>optimal_temperature</th>\n",
       "      <th>salinity</th>\n",
       "      <th>oxygen_requirement</th>\n",
       "      <th>habitat</th>\n",
       "      <th>disease</th>\n",
       "      <th>comments</th>\n",
       "      <th>additional_metadata</th>\n",
       "    </tr>\n",
       "  </thead>\n",
       "  <tbody>\n",
       "    <tr>\n",
       "      <th>0</th>\n",
       "      <td>1314.4067</td>\n",
       "      <td>Streptococcus pyogenes 1042</td>\n",
       "      <td>NaN</td>\n",
       "      <td>1314</td>\n",
       "      <td>Complete</td>\n",
       "      <td>1042</td>\n",
       "      <td>NaN</td>\n",
       "      <td>NaN</td>\n",
       "      <td>NaN</td>\n",
       "      <td>MLST.Streptococcus_pyogenes.530</td>\n",
       "      <td>...</td>\n",
       "      <td>NaN</td>\n",
       "      <td>NaN</td>\n",
       "      <td>NaN</td>\n",
       "      <td>NaN</td>\n",
       "      <td>NaN</td>\n",
       "      <td>NaN</td>\n",
       "      <td>NaN</td>\n",
       "      <td>NaN</td>\n",
       "      <td>NaN</td>\n",
       "      <td>sample_type:Pure culture</td>\n",
       "    </tr>\n",
       "    <tr>\n",
       "      <th>1</th>\n",
       "      <td>1314.4068</td>\n",
       "      <td>Streptococcus pyogenes 1039</td>\n",
       "      <td>NaN</td>\n",
       "      <td>1314</td>\n",
       "      <td>Complete</td>\n",
       "      <td>1039</td>\n",
       "      <td>NaN</td>\n",
       "      <td>NaN</td>\n",
       "      <td>NaN</td>\n",
       "      <td>NaN</td>\n",
       "      <td>...</td>\n",
       "      <td>NaN</td>\n",
       "      <td>NaN</td>\n",
       "      <td>NaN</td>\n",
       "      <td>NaN</td>\n",
       "      <td>NaN</td>\n",
       "      <td>NaN</td>\n",
       "      <td>NaN</td>\n",
       "      <td>NaN</td>\n",
       "      <td>NaN</td>\n",
       "      <td>sample_type:Pure culture</td>\n",
       "    </tr>\n",
       "    <tr>\n",
       "      <th>2</th>\n",
       "      <td>1314.4070</td>\n",
       "      <td>Streptococcus pyogenes 1004</td>\n",
       "      <td>NaN</td>\n",
       "      <td>1314</td>\n",
       "      <td>Complete</td>\n",
       "      <td>1004</td>\n",
       "      <td>NaN</td>\n",
       "      <td>NaN</td>\n",
       "      <td>NaN</td>\n",
       "      <td>MLST.Streptococcus_pyogenes.530</td>\n",
       "      <td>...</td>\n",
       "      <td>NaN</td>\n",
       "      <td>NaN</td>\n",
       "      <td>NaN</td>\n",
       "      <td>NaN</td>\n",
       "      <td>NaN</td>\n",
       "      <td>NaN</td>\n",
       "      <td>NaN</td>\n",
       "      <td>NaN</td>\n",
       "      <td>NaN</td>\n",
       "      <td>sample_type:Pure culture</td>\n",
       "    </tr>\n",
       "  </tbody>\n",
       "</table>\n",
       "<p>3 rows × 66 columns</p>\n",
       "</div>"
      ],
      "text/plain": [
       "   genome_id                  genome_name organism_name taxon_id  \\\n",
       "0  1314.4067  Streptococcus pyogenes 1042           NaN     1314   \n",
       "1  1314.4068  Streptococcus pyogenes 1039           NaN     1314   \n",
       "2  1314.4070  Streptococcus pyogenes 1004           NaN     1314   \n",
       "\n",
       "  genome_status strain serovar biovar pathovar  \\\n",
       "0      Complete   1042     NaN    NaN      NaN   \n",
       "1      Complete   1039     NaN    NaN      NaN   \n",
       "2      Complete   1004     NaN    NaN      NaN   \n",
       "\n",
       "                              mlst  ... motility sporulation  \\\n",
       "0  MLST.Streptococcus_pyogenes.530  ...      NaN         NaN   \n",
       "1                              NaN  ...      NaN         NaN   \n",
       "2  MLST.Streptococcus_pyogenes.530  ...      NaN         NaN   \n",
       "\n",
       "  temperature_range optimal_temperature salinity oxygen_requirement habitat  \\\n",
       "0               NaN                 NaN      NaN                NaN     NaN   \n",
       "1               NaN                 NaN      NaN                NaN     NaN   \n",
       "2               NaN                 NaN      NaN                NaN     NaN   \n",
       "\n",
       "  disease comments       additional_metadata  \n",
       "0     NaN      NaN  sample_type:Pure culture  \n",
       "1     NaN      NaN  sample_type:Pure culture  \n",
       "2     NaN      NaN  sample_type:Pure culture  \n",
       "\n",
       "[3 rows x 66 columns]"
      ]
     },
     "metadata": {},
     "output_type": "display_data"
    }
   ],
   "source": [
    "mash_scrubbed_metadata = pd.read_csv(os.path.join(WORKDIR, 'interim/mash_scrubbed_species_metadata_2b.csv'), index_col=0, dtype='object')\n",
    "\n",
    "display(\n",
    "    mash_scrubbed_metadata.shape,\n",
    "    mash_scrubbed_metadata.head()\n",
    ")"
   ]
  },
  {
   "cell_type": "markdown",
   "id": "bfdf7dec-7f7c-4c7d-90d2-9c18fcc450e0",
   "metadata": {},
   "source": [
    "# Run Panaroo\n",
    "Run the annotation and panaroo pipeline provided in the workflows. This notebook will process the files to format them for the rest of the pipeline"
   ]
  },
  {
   "cell_type": "markdown",
   "id": "28893401-fc3f-482f-a3f0-639b36d4a90e",
   "metadata": {},
   "source": [
    "# Process Panaroo Results"
   ]
  },
  {
   "cell_type": "code",
   "execution_count": 4,
   "id": "080346f3-8408-4f01-ac2a-e1cb661ef735",
   "metadata": {},
   "outputs": [],
   "source": [
    "import networkx as nx\n",
    "from pyphylon.pangenome import *"
   ]
  },
  {
   "cell_type": "code",
   "execution_count": 61,
   "id": "13fcf78b-006e-476f-80aa-cce3886bfb68",
   "metadata": {},
   "outputs": [],
   "source": [
    "def update_pangenome_faa_file(filepath, output_filepath, panaroo_to_pangneome_map, centroids):\n",
    "    with open(filepath, 'r') as input_fasta:\n",
    "        with open(output_filepath, 'w') as output_fasta:\n",
    "            with open(output_filepath + '_representative_sequences', 'w') as output_representative_fasta:\n",
    "                representative_sequence = False\n",
    "                for line in input_fasta:\n",
    "                    if line[0] == '>':\n",
    "                        output_fasta.write('>' + panaroo_to_pangneome_map[line[1:].strip()] + '\\n')\n",
    "                        if line[1:].strip() in centroids:\n",
    "                            representative_sequence = True\n",
    "                            output_representative_fasta.write('>' + centroids[line[1:].strip()] + '\\n')\n",
    "                        else:\n",
    "                            representative_sequence = False\n",
    "                    else:\n",
    "                        output_fasta.write(line)\n",
    "                        if representative_sequence:\n",
    "                            output_representative_fasta.write(line)\n",
    "\n",
    "def update_gff(filepath, output_filepath, panaroo_to_pangneome_map):\n",
    "    with open(filepath, 'r') as input_gff:\n",
    "        with open(output_filepath, 'w') as output_gff:\n",
    "            for line in input_gff:\n",
    "                if line[0] == '#':\n",
    "                    output_gff.write(line)\n",
    "                else:\n",
    "                    if 'panaroo_ID=' in line:\n",
    "                        panaroo_ID = [x for x in line.strip().split()[-1].split(';') if 'panaroo_ID' in x][0]\n",
    "                        panaroo_ID = panaroo_ID.split('=')[1]\n",
    "                        \n",
    "                        pangenome_allele = panaroo_to_pangneome_map[panaroo_ID]\n",
    "                        pangenome_cluster = pangenome_allele[:pangenome_allele.rfind('A')]\n",
    "\n",
    "                        line = line.strip()\n",
    "                        line = line + ';' + 'pangenome_allele=' + pangenome_allele + ';' + 'pangenome_cluster=' + pangenome_cluster\n",
    "\n",
    "                        output_gff.write(line + '\\n')\n",
    "\n",
    "def process_panaroo_results(SPECIES, panaroo_results_path):\n",
    "    print('Loading Panaroo data ...')\n",
    "    panaroo_df_genes = pd.read_csv(os.path.join(panaroo_results_path, 'gene_presence_absence.csv'), index_col='Gene', low_memory = False, dtype=object).drop(['Non-unique Gene name', 'Annotation'], axis=1)\n",
    "    gene_information = pd.read_csv(os.path.join(panaroo_results_path, 'gene_data.csv'), dtype=object)\n",
    "    genomes = list(panaroo_df_genes.columns)\n",
    "    graph = nx.read_gml(os.path.join(panaroo_results_path, 'final_graph.gml'))\n",
    "\n",
    "    print(\"Generating P matrix ...\")\n",
    "    ## generate P matrix from graph ##\n",
    "    panaroo_to_clusters = {} # map of names of genes in panaroo output to new names for pangenome\n",
    "    panaroo_to_ids = {} # map of panaroo gene names to ids\n",
    "    cluster_count = 0\n",
    "    \n",
    "    P = np.zeros((len(graph.nodes), len(genomes)))\n",
    "    \n",
    "    for node in tqdm(list(graph.nodes)[::-1]):\n",
    "        node = graph.nodes[node]\n",
    "        panaroo_to_clusters[node['name']] = SPECIES + '_' + str(cluster_count)\n",
    "        panaroo_to_ids[node['name']] = node['geneIDs'].split(';')\n",
    "    \n",
    "        # create allelic information here\n",
    "        \n",
    "        genome_ids = node['genomeIDs'].split(';')\n",
    "        genome_indices = list(map(int, genome_ids))  # Convert map to list\n",
    "        P[cluster_count, genome_indices] = 1\n",
    "        \n",
    "        cluster_count += 1 # increment the clusters for naming\n",
    "    \n",
    "    P = pd.DataFrame(P, index = panaroo_to_clusters.values(), columns = genomes, dtype=int)\n",
    "\n",
    "    print(\"Retrieving allele information ...\")\n",
    "    ## Generate P_allele matrix from graph ##\n",
    "    p_allele_dict = {}\n",
    "    alleles_to_tags = {}\n",
    "    for group, clustering_ids in tqdm(panaroo_to_ids.items()):\n",
    "        pangenome_id = panaroo_to_clusters[group]\n",
    "        p_allele_dict[pangenome_id] = {}\n",
    "        gene_info_temp = gene_information[gene_information.clustering_id.isin(clustering_ids)]\n",
    "    \n",
    "        allele_count = 0 # iterate over all unique alleles and add to this based on how many have been processed\n",
    "        for value, allele_group in gene_info_temp.groupby('prot_sequence'):\n",
    "            p_allele_dict[pangenome_id][pangenome_id + 'A' + str(allele_count)] = list(allele_group.gff_file.values)\n",
    "            alleles_to_tags[pangenome_id + 'A' + str(allele_count)] = (';').join(list(allele_group.clustering_id.values))\n",
    "            allele_count += 1\n",
    "\n",
    "    total_alleles = 0\n",
    "    allele_list = []\n",
    "    for gene, alleles in p_allele_dict.items():\n",
    "        allele_list += alleles\n",
    "        total_alleles += len(alleles)\n",
    "\n",
    "    print(\"Generating P_allele matrix ...\")\n",
    "    P_allele = np.zeros((total_alleles, len(genomes)))\n",
    "    i = 0\n",
    "    for gene, alleles in tqdm(p_allele_dict.items()):\n",
    "        for allele, allele_genomes in alleles.items():\n",
    "            indices = [index for index, value in enumerate(genomes) if value in allele_genomes]\n",
    "            P_allele[i, indices] = 1\n",
    "            i+=1\n",
    "    \n",
    "    P_allele = pd.DataFrame(P_allele, index = allele_list, columns = genomes, dtype = int)\n",
    "\n",
    "    ##  Update panaroo pangenome faa files with the updated pangenome names\n",
    "    print('Updating sequence names in pangenome .faa files ...')\n",
    "    tags_to_pangenome_alleles = {x:a for a, tags in alleles_to_tags.items() for x in tags.split(';')}\n",
    "    centroids = {}\n",
    "    for node in graph.nodes:\n",
    "        node = graph.nodes[node]\n",
    "        centroids[node['centroid']] = panaroo_to_clusters[node['name']]\n",
    "    update_pangenome_faa_file(os.path.join(panaroo_results_path, 'combined_protein_CDS.fasta'), \n",
    "                              os.path.join(panaroo_results_path, SPECIES), tags_to_pangenome_alleles, centroids)\n",
    "\n",
    "    ## Update the gff files for panaroo\n",
    "    print('Updating panaroo gff files with updated sequence names ...')\n",
    "    if not os.path.isdir(os.path.join(panaroo_results_path, 'gffs')):\n",
    "        os.makedirs(os.path.join(panaroo_results_path, 'gffs'))\n",
    "    \n",
    "    for genome in P.columns:\n",
    "        update_gff(os.path.join(panaroo_results_path, 'postpanaroo_gffs', genome + '_panaroo.gff'),\n",
    "                  os.path.join(panaroo_results_path, 'gffs', genome + '.gff'),\n",
    "                  tags_to_pangenome_alleles)\n",
    "    \n",
    "    ## Update pangenome graph\n",
    "    # add new pangenome cluster names to graph\n",
    "    # TODO consider adding list of allele names as well (updated with pangenome allele structure)\n",
    "    print('Updating Graph ...')\n",
    "    for node in graph.nodes:\n",
    "        node = graph.nodes[node]\n",
    "        node['pangenome_name'] = panaroo_to_clusters[node['name']]\n",
    "        node['genomes'] = ';'.join([genomes[int(i)] for i  in node['genomeIDs'].split(';')])\n",
    "        node['alleles'] = ';'.join([tags_to_pangenome_alleles[x] for x in node['geneIDs'].split(';')])\n",
    "        node['centroid_allele'] = tags_to_pangenome_alleles[node['centroid'].split(';')[0]]\n",
    "\n",
    "    ## output the relevant matrices and tables\n",
    "    print('Saving results to:', panaroo_results_path)\n",
    "    # P matrix of genes by strains, sparsely\n",
    "    P.astype(pd.SparseDtype(int, fill_value=0)).to_pickle(os.path.join(panaroo_results_path, SPECIES + '_strain_by_gene.pickle.gz'))\n",
    "    # P Allele matrix of alleles by strains, sparsely\n",
    "    P_allele.astype(pd.SparseDtype(int, fill_value=0)).to_pickle(os.path.join(panaroo_results_path, SPECIES + '_strain_by_allele.pickle.gz'))\n",
    "    # mapping of panaroo group names to pangenome names for gene clusters\n",
    "    pd.Series(panaroo_to_clusters).to_csv(os.path.join(panaroo_results_path, SPECIES + '_panaroo_names_to_pangenome.csv'), header=None)\n",
    "    # mapping of pangenome allele names to panaroo ids for genes\n",
    "    pd.Series(alleles_to_tags).to_csv(os.path.join(panaroo_results_path, SPECIES + '_pangenome_alleles_to_tags.csv'), header=None)\n",
    "    # output updated graph\n",
    "    nx.write_gml(graph, os.path.join(panaroo_results_path, SPECIES + '_graph.gml'))\n",
    "\n",
    "    return P, P_allele, graph"
   ]
  },
  {
   "cell_type": "code",
   "execution_count": 62,
   "id": "821a0582-9e7d-4e61-8be5-4ccbdca3c9eb",
   "metadata": {
    "scrolled": true
   },
   "outputs": [
    {
     "name": "stdout",
     "output_type": "stream",
     "text": [
      "Loading Panaroo data ...\n",
      "Generating P matrix ...\n"
     ]
    },
    {
     "data": {
      "application/vnd.jupyter.widget-view+json": {
       "model_id": "a9fba47788bf49549167faee61b530cf",
       "version_major": 2,
       "version_minor": 0
      },
      "text/plain": [
       "  0%|          | 0/1815 [00:00<?, ?it/s]"
      ]
     },
     "metadata": {},
     "output_type": "display_data"
    },
    {
     "name": "stdout",
     "output_type": "stream",
     "text": [
      "Retrieving allele information ...\n"
     ]
    },
    {
     "data": {
      "application/vnd.jupyter.widget-view+json": {
       "model_id": "24c67b51a8ca4e37830ad1c33ce40700",
       "version_major": 2,
       "version_minor": 0
      },
      "text/plain": [
       "  0%|          | 0/1815 [00:00<?, ?it/s]"
      ]
     },
     "metadata": {},
     "output_type": "display_data"
    },
    {
     "name": "stdout",
     "output_type": "stream",
     "text": [
      "Generating P_allele matrix ...\n"
     ]
    },
    {
     "data": {
      "application/vnd.jupyter.widget-view+json": {
       "model_id": "73dc4c9257eb4b9da98a623894db5695",
       "version_major": 2,
       "version_minor": 0
      },
      "text/plain": [
       "  0%|          | 0/1815 [00:00<?, ?it/s]"
      ]
     },
     "metadata": {},
     "output_type": "display_data"
    },
    {
     "name": "stdout",
     "output_type": "stream",
     "text": [
      "Updating sequence names in pangenome .faa files ...\n",
      "Updating panaroo gff files with updated sequence names ...\n",
      "Updating Graph ...\n",
      "Saving results to: data/processed/panaroo_results/SPyogenes\n"
     ]
    }
   ],
   "source": [
    "df_genes, df_alleles, pangenome_graph = process_panaroo_results(SPECIES, os.path.join(WORKDIR, 'processed', 'panaroo_results', SPECIES))"
   ]
  }
 ],
 "metadata": {
  "kernelspec": {
   "display_name": "Python pyphylon",
   "language": "python",
   "name": "pyphylontesting"
  },
  "language_info": {
   "codemirror_mode": {
    "name": "ipython",
    "version": 3
   },
   "file_extension": ".py",
   "mimetype": "text/x-python",
   "name": "python",
   "nbconvert_exporter": "python",
   "pygments_lexer": "ipython3",
   "version": "3.12.8"
  }
 },
 "nbformat": 4,
 "nbformat_minor": 5
}
