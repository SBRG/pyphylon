{
 "cells": [
  {
   "cell_type": "code",
   "execution_count": null,
   "id": "5c3d2b39-38be-41b8-ad06-6cc6ba234c51",
   "metadata": {},
   "outputs": [],
   "source": [
    "import pyphylon\n",
    "import importlib\n",
    "import os \n",
    "\n",
    "from pyphylon.blast_utils import *\n",
    "from pyphylon.util import load_config"
   ]
  },
  {
   "cell_type": "code",
   "execution_count": null,
   "id": "58af5467-4f82-4c70-bc50-f56e67671cce",
   "metadata": {},
   "outputs": [],
   "source": [
    "CONFIG = load_config(\"config.yml\")\n",
    "WORKDIR = CONFIG[\"WORKDIR\"]\n",
    "SPECIES = CONFIG['PG_NAME']"
   ]
  },
  {
   "cell_type": "markdown",
   "id": "e50f664f-1cbb-4e77-9d06-fcd7d514e5cc",
   "metadata": {},
   "source": [
    "# Extract representative alleles\n",
    "If you wish to compare the rerpesentative alleles for each gene cluster to external  sequences and annotations, you can extract them to a unique file using this command"
   ]
  },
  {
   "cell_type": "code",
   "execution_count": null,
   "id": "302ba098-d83d-4382-aff2-efab229d1c67",
   "metadata": {},
   "outputs": [],
   "source": [
    "# function to extract the representative alleles for each gene cluster\n",
    "extract_reference_sequences(os.path.join(WORKDIR + 'processed/cd-hit-results'), SPECIES, os.path.join(WORKDIR, 'processed/cd-hit-results/', f'{SPECIES}_representative_sequences'))"
   ]
  },
  {
   "cell_type": "markdown",
   "id": "adb06acd-bc0b-43d2-8728-3414954b6069",
   "metadata": {},
   "source": [
    "# Comparing pangenome against blast database of interest\n",
    "\n",
    "Requires blast to be installed in your environment. If using conda, the command can be installed with `conda install -c bioconda blast`.\n",
    "\n",
    "Example given for [VFDB](https://www.mgc.ac.cn/VFs/download.htm) for the download of the core dataset protein sequences."
   ]
  },
  {
   "cell_type": "code",
   "execution_count": null,
   "id": "d6194a6c-0b68-4d46-9172-3ca9cbde777d",
   "metadata": {},
   "outputs": [],
   "source": [
    "# Download of proteins fasta downloaded and placed into external directory in data outside of this notebook\n",
    "# This can be done for any fasta of interest\n",
    "make_blast_db(os.path.join(WORKDIR, 'external/VFDB/VFDB_setA_pro.fas'), os.path.join(WORKDIR, 'external/VFDB/VFDB')) # download VFDB database here: https://www.mgc.ac.cn/VFs/download.htm direct link: https://www.mgc.ac.cn/VFs/Down/VFDB_setA_nt.fas.gz)"
   ]
  },
  {
   "cell_type": "code",
   "execution_count": null,
   "id": "b55b4e6a-e83f-4445-85eb-41478c579dd7",
   "metadata": {},
   "outputs": [],
   "source": [
    "blast_localdb_enrichment(WORKDIR + 'external/VFDB/VFDB', WORKDIR + 'processed/cd-hit-results/' + SPECIES + '_representative_sequences', \n",
    "                         WORKDIR + 'external/VFDB/results.txt', e_val = 1e-5)"
   ]
  },
  {
   "cell_type": "code",
   "execution_count": null,
   "id": "00f6c5f2-26e0-4886-bb87-255e514fba92",
   "metadata": {},
   "outputs": [],
   "source": [
    "blast_results = process_blast_results(WORKDIR + 'external/VFDB/results.txt', e_val = 1e-5, percent_identity=80)\n",
    "blast_results"
   ]
  },
  {
   "cell_type": "markdown",
   "id": "1c943c6f-44e8-45a2-ac77-acbeac42bd17",
   "metadata": {},
   "source": [
    "# Make blast database from our pangenome"
   ]
  },
  {
   "cell_type": "code",
   "execution_count": null,
   "id": "955d6663-787b-438e-8aba-7ada3ba594cb",
   "metadata": {},
   "outputs": [],
   "source": [
    "DATABASE = WORKDIR + 'external/PangenomeDB/PangenomeDB'\n",
    "INPUT_FILE =  WORKDIR + 'processed/cd-hit-results/' + SPECIES\n",
    "\n",
    "make_blast_db(INPUT_FILE, DATABASE)"
   ]
  },
  {
   "cell_type": "markdown",
   "id": "be513bef-6f4d-4dd1-9a11-6a8bac0865d0",
   "metadata": {},
   "source": [
    "Create a query file of interest with a sequence you hope to blast, example sequence is from https://www.uniprot.org/uniprotkb/A0A4Y6ER29/entry#sequences\n"
   ]
  },
  {
   "cell_type": "code",
   "execution_count": null,
   "id": "7bf502ba-fe7e-4ff7-9951-ad11ce7cf11c",
   "metadata": {},
   "outputs": [],
   "source": [
    "QUERY_FILE =  WORKDIR + 'external/PangenomeDB/query.fa'\n",
    "OUTPUT_FILE = WORKDIR + 'external/PangenomeDB/results.txt'\n",
    "\n",
    "blast_localdb_enrichment(DATABASE, QUERY_FILE, OUTPUT_FILE, e_val = 1e-5)"
   ]
  },
  {
   "cell_type": "code",
   "execution_count": null,
   "id": "3d513d00-71d7-4f1c-aede-f49b5cae36dd",
   "metadata": {},
   "outputs": [],
   "source": [
    "blast_results = process_blast_results(OUTPUT_FILE, e_val = 1e-5, percent_identity=0, unique=False)\n",
    "blast_results"
   ]
  },
  {
   "cell_type": "code",
   "execution_count": null,
   "id": "09dd775d",
   "metadata": {},
   "outputs": [],
   "source": []
  }
 ],
 "metadata": {
  "kernelspec": {
   "display_name": "pyphylon",
   "language": "python",
   "name": "python3"
  },
  "language_info": {
   "codemirror_mode": {
    "name": "ipython",
    "version": 3
   },
   "file_extension": ".py",
   "mimetype": "text/x-python",
   "name": "python",
   "nbconvert_exporter": "python",
   "pygments_lexer": "ipython3",
   "version": "3.11.11"
  }
 },
 "nbformat": 4,
 "nbformat_minor": 5
}
