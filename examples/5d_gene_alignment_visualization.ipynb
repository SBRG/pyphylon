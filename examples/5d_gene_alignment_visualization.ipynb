{
 "cells": [
  {
   "cell_type": "markdown",
   "id": "595275df-f93c-484d-b0f7-9016e18ba421",
   "metadata": {},
   "source": [
    "# Gene-level alignment for pan-genome"
   ]
  },
  {
   "cell_type": "code",
   "execution_count": null,
   "id": "bee964c0-867f-4532-9800-58956a8779b0",
   "metadata": {
    "execution": {
     "iopub.execute_input": "2025-02-25T09:04:43.745204Z",
     "iopub.status.busy": "2025-02-25T09:04:43.744754Z",
     "iopub.status.idle": "2025-02-25T09:04:44.190249Z",
     "shell.execute_reply": "2025-02-25T09:04:44.189866Z",
     "shell.execute_reply.started": "2025-02-25T09:04:43.745179Z"
    }
   },
   "outputs": [],
   "source": [
    "import logging\n",
    "import re\n",
    "import urllib\n",
    "from io import StringIO\n",
    "import pandas as pd\n",
    "import numpy as np\n",
    "import matplotlib\n",
    "import matplotlib.pyplot as plt\n",
    "import gzip\n",
    "import pickle\n",
    "from tqdm.notebook import tqdm, trange\n",
    "import multiprocessing\n",
    "from IPython.display import display, HTML\n",
    "import itertools\n",
    "\n",
    "import plotly.graph_objects as go\n",
    "\n",
    "%matplotlib inline\n",
    "%config InlineBackend.figure_format = 'svg'"
   ]
  },
  {
   "cell_type": "code",
   "execution_count": null,
   "id": "df2fac71-a4f5-4a7b-a918-c407d87d33cb",
   "metadata": {
    "execution": {
     "iopub.execute_input": "2025-02-25T09:04:44.190772Z",
     "iopub.status.busy": "2025-02-25T09:04:44.190623Z",
     "iopub.status.idle": "2025-02-25T09:04:44.192695Z",
     "shell.execute_reply": "2025-02-25T09:04:44.192442Z",
     "shell.execute_reply.started": "2025-02-25T09:04:44.190761Z"
    }
   },
   "outputs": [],
   "source": [
    "import os"
   ]
  },
  {
   "cell_type": "code",
   "execution_count": null,
   "id": "9f68eb89-a6a4-44c1-8653-882068ed4d0f",
   "metadata": {
    "execution": {
     "iopub.execute_input": "2025-02-25T09:04:44.193449Z",
     "iopub.status.busy": "2025-02-25T09:04:44.193296Z",
     "iopub.status.idle": "2025-02-25T09:04:44.203253Z",
     "shell.execute_reply": "2025-02-25T09:04:44.202990Z",
     "shell.execute_reply.started": "2025-02-25T09:04:44.193440Z"
    }
   },
   "outputs": [],
   "source": [
    "from pyphylon.plotting_util import *"
   ]
  },
  {
   "cell_type": "code",
   "execution_count": null,
   "id": "e9fba378-4ebf-448b-a7bf-2d659d8f8f1d",
   "metadata": {
    "execution": {
     "iopub.execute_input": "2025-02-25T09:04:44.203704Z",
     "iopub.status.busy": "2025-02-25T09:04:44.203601Z",
     "iopub.status.idle": "2025-02-25T09:04:44.218483Z",
     "shell.execute_reply": "2025-02-25T09:04:44.218152Z",
     "shell.execute_reply.started": "2025-02-25T09:04:44.203693Z"
    }
   },
   "outputs": [],
   "source": [
    "from pyphylon.plotting import *"
   ]
  },
  {
   "cell_type": "code",
   "execution_count": null,
   "id": "204ef9c9-e120-4abe-a078-5d964545100b",
   "metadata": {
    "execution": {
     "iopub.execute_input": "2025-02-25T09:04:44.218926Z",
     "iopub.status.busy": "2025-02-25T09:04:44.218819Z",
     "iopub.status.idle": "2025-02-25T09:04:44.220805Z",
     "shell.execute_reply": "2025-02-25T09:04:44.220525Z",
     "shell.execute_reply.started": "2025-02-25T09:04:44.218915Z"
    }
   },
   "outputs": [],
   "source": [
    "from pyphylon.util import load_config"
   ]
  },
  {
   "cell_type": "markdown",
   "id": "301be380-97ce-4c45-a8b7-ced9e78ae888",
   "metadata": {},
   "source": [
    "## Set up files and matrices for analysis of genomic location\n",
    "Load in gene matrix and header to allele to map each gff file to correct gene names"
   ]
  },
  {
   "cell_type": "code",
   "execution_count": null,
   "id": "0b57ce3c-1485-4183-bddf-f53f435034f3",
   "metadata": {
    "execution": {
     "iopub.execute_input": "2025-02-25T09:04:44.221383Z",
     "iopub.status.busy": "2025-02-25T09:04:44.221161Z",
     "iopub.status.idle": "2025-02-25T09:04:44.231882Z",
     "shell.execute_reply": "2025-02-25T09:04:44.231614Z",
     "shell.execute_reply.started": "2025-02-25T09:04:44.221372Z"
    }
   },
   "outputs": [],
   "source": [
    "CONFIG = load_config(\"config.yml\")\n",
    "WORKDIR = CONFIG[\"WORKDIR\"]\n",
    "SPECIES = CONFIG[\"PG_NAME\"]"
   ]
  },
  {
   "cell_type": "code",
   "execution_count": null,
   "id": "ce5222c3-5c16-42a0-961b-843db72c0d45",
   "metadata": {
    "execution": {
     "iopub.execute_input": "2025-02-25T09:04:44.232247Z",
     "iopub.status.busy": "2025-02-25T09:04:44.232154Z",
     "iopub.status.idle": "2025-02-25T09:04:44.234093Z",
     "shell.execute_reply": "2025-02-25T09:04:44.233820Z",
     "shell.execute_reply.started": "2025-02-25T09:04:44.232238Z"
    }
   },
   "outputs": [],
   "source": [
    "DF_GENES = os.path.join(WORKDIR, f'processed/cd-hit-results/{SPECIES}_strain_by_gene.pickle.gz')\n",
    "ENRICHED_METADATA = os.path.join(WORKDIR, 'interim/enriched_metadata_2d.csv')\n",
    "# DF_EGGNOG"
   ]
  },
  {
   "cell_type": "code",
   "execution_count": null,
   "id": "ea4bf099-654d-4d6e-91a1-d204020de922",
   "metadata": {
    "execution": {
     "iopub.execute_input": "2025-02-25T09:04:44.234543Z",
     "iopub.status.busy": "2025-02-25T09:04:44.234432Z",
     "iopub.status.idle": "2025-02-25T09:04:44.236320Z",
     "shell.execute_reply": "2025-02-25T09:04:44.236022Z",
     "shell.execute_reply.started": "2025-02-25T09:04:44.234533Z"
    }
   },
   "outputs": [],
   "source": [
    "REFERENCE_STRAIN = '1314.3244' # a random one here for demo"
   ]
  },
  {
   "cell_type": "code",
   "execution_count": null,
   "id": "4a5bf764-3aa2-4c0c-ae22-58dbcb0aa89e",
   "metadata": {
    "execution": {
     "iopub.execute_input": "2025-02-25T09:04:44.237665Z",
     "iopub.status.busy": "2025-02-25T09:04:44.237452Z",
     "iopub.status.idle": "2025-02-25T09:04:44.239461Z",
     "shell.execute_reply": "2025-02-25T09:04:44.239196Z",
     "shell.execute_reply.started": "2025-02-25T09:04:44.237654Z"
    }
   },
   "outputs": [],
   "source": [
    "DF_EGGNOG = os.path.join(WORKDIR, f'processed/df_eggnog.csv')"
   ]
  },
  {
   "cell_type": "code",
   "execution_count": null,
   "id": "0f4ac347-a46c-4cdb-a0d9-88ebd04205b7",
   "metadata": {
    "execution": {
     "iopub.execute_input": "2025-02-25T09:04:44.239929Z",
     "iopub.status.busy": "2025-02-25T09:04:44.239827Z",
     "iopub.status.idle": "2025-02-25T09:04:44.241856Z",
     "shell.execute_reply": "2025-02-25T09:04:44.241552Z",
     "shell.execute_reply.started": "2025-02-25T09:04:44.239919Z"
    }
   },
   "outputs": [],
   "source": [
    "DF_CORE_COMPLETE = os.path.join(WORKDIR, f'processed/CAR_genomes/df_core.csv')\n",
    "DF_ACC_COMPLETE = os.path.join(WORKDIR, f'processed/CAR_genomes/df_acc.csv')\n",
    "DF_RARE_COMPLETE = os.path.join(WORKDIR, f'processed/CAR_genomes/df_rare.csv')"
   ]
  },
  {
   "cell_type": "code",
   "execution_count": null,
   "id": "aa4c3b7b-7652-4551-8b3a-b344289e1c85",
   "metadata": {
    "execution": {
     "iopub.execute_input": "2025-02-25T09:04:44.242259Z",
     "iopub.status.busy": "2025-02-25T09:04:44.242136Z",
     "iopub.status.idle": "2025-02-25T09:04:44.257817Z",
     "shell.execute_reply": "2025-02-25T09:04:44.257534Z",
     "shell.execute_reply.started": "2025-02-25T09:04:44.242249Z"
    }
   },
   "outputs": [],
   "source": [
    "df_core_complete = pd.read_csv(DF_CORE_COMPLETE, index_col=0)\n",
    "df_acc_complete = pd.read_csv(DF_ACC_COMPLETE, index_col=0)\n",
    "df_rare_complete = pd.read_csv(DF_RARE_COMPLETE, index_col=0)"
   ]
  },
  {
   "cell_type": "code",
   "execution_count": null,
   "id": "637c6b0a-6384-415a-aeb6-2453ebdb9a12",
   "metadata": {
    "execution": {
     "iopub.execute_input": "2025-02-25T09:04:44.258285Z",
     "iopub.status.busy": "2025-02-25T09:04:44.258099Z",
     "iopub.status.idle": "2025-02-25T09:04:44.263205Z",
     "shell.execute_reply": "2025-02-25T09:04:44.262955Z",
     "shell.execute_reply.started": "2025-02-25T09:04:44.258274Z"
    }
   },
   "outputs": [],
   "source": [
    "# Load in (full) P matrix\n",
    "df_genes = pd.read_pickle(DF_GENES)"
   ]
  },
  {
   "cell_type": "code",
   "execution_count": null,
   "id": "fc329113-9536-4d11-8338-40fee1d1535b",
   "metadata": {
    "execution": {
     "iopub.execute_input": "2025-02-25T09:04:44.263603Z",
     "iopub.status.busy": "2025-02-25T09:04:44.263501Z",
     "iopub.status.idle": "2025-02-25T09:04:44.270643Z",
     "shell.execute_reply": "2025-02-25T09:04:44.270364Z",
     "shell.execute_reply.started": "2025-02-25T09:04:44.263593Z"
    }
   },
   "outputs": [],
   "source": [
    "metadata = pd.read_csv(ENRICHED_METADATA, index_col=0, dtype='object')\n",
    "metadata_complete = metadata[metadata.genome_status == 'Complete']"
   ]
  },
  {
   "cell_type": "code",
   "execution_count": null,
   "id": "47d215b8-f1ff-4c4e-ad77-1be2cafea710",
   "metadata": {
    "execution": {
     "iopub.execute_input": "2025-02-25T09:04:44.271057Z",
     "iopub.status.busy": "2025-02-25T09:04:44.270956Z",
     "iopub.status.idle": "2025-02-25T09:04:44.280485Z",
     "shell.execute_reply": "2025-02-25T09:04:44.280238Z",
     "shell.execute_reply.started": "2025-02-25T09:04:44.271048Z"
    }
   },
   "outputs": [],
   "source": [
    "# Filter P matrix for Complete sequences only\n",
    "df_genes_complete = df_genes[metadata_complete.genome_id]\n",
    "df_genes_complete = df_genes_complete.fillna(0) # replace N/A with 0\n",
    "df_genes_complete = df_genes_complete.sparse.to_dense().astype('int8') # densify & typecast to int8 for space and compute reasons\n",
    "inCompleteseqs = df_genes_complete.sum(axis=1) > 0 # filter for genes found in complete sequences\n",
    "df_genes_complete = df_genes_complete[inCompleteseqs]\n",
    "\n",
    "df_genes_complete.shape"
   ]
  },
  {
   "cell_type": "code",
   "execution_count": null,
   "id": "a878c0fe-a477-421a-b7ee-9d6ca4453ece",
   "metadata": {
    "execution": {
     "iopub.execute_input": "2025-02-25T09:04:44.280890Z",
     "iopub.status.busy": "2025-02-25T09:04:44.280788Z",
     "iopub.status.idle": "2025-02-25T09:04:44.282655Z",
     "shell.execute_reply": "2025-02-25T09:04:44.282388Z",
     "shell.execute_reply.started": "2025-02-25T09:04:44.280880Z"
    }
   },
   "outputs": [],
   "source": [
    "L_MATRIX = os.path.join(WORKDIR, f'processed/nmf-outputs/L_binarized.csv')\n",
    "A_MATRIX = os.path.join(WORKDIR, f'processed/nmf-outputs/A_binarized.csv')"
   ]
  },
  {
   "cell_type": "code",
   "execution_count": null,
   "id": "ec16cd11-b447-4cdd-ae49-8a212302a8f1",
   "metadata": {
    "execution": {
     "iopub.execute_input": "2025-02-25T09:04:44.283100Z",
     "iopub.status.busy": "2025-02-25T09:04:44.282947Z",
     "iopub.status.idle": "2025-02-25T09:04:44.305317Z",
     "shell.execute_reply": "2025-02-25T09:04:44.305098Z",
     "shell.execute_reply.started": "2025-02-25T09:04:44.283090Z"
    }
   },
   "outputs": [],
   "source": [
    "L_binarized = pd.read_csv(L_MATRIX, index_col=0)\n",
    "A_binarized = pd.read_csv(A_MATRIX, index_col=0)\n",
    "\n",
    "display(\n",
    "    L_binarized.shape,\n",
    "    L_binarized.head(),\n",
    "    A_binarized.shape,\n",
    "    A_binarized.head()\n",
    ")"
   ]
  },
  {
   "cell_type": "code",
   "execution_count": null,
   "id": "d5560038-8a79-49b5-a0f7-3308d23a4528",
   "metadata": {
    "execution": {
     "iopub.execute_input": "2025-02-25T09:04:44.305673Z",
     "iopub.status.busy": "2025-02-25T09:04:44.305579Z",
     "iopub.status.idle": "2025-02-25T09:04:44.307254Z",
     "shell.execute_reply": "2025-02-25T09:04:44.306985Z",
     "shell.execute_reply.started": "2025-02-25T09:04:44.305662Z"
    }
   },
   "outputs": [],
   "source": [
    "# df_eggnog = pd.read_csv(DF_EGGNOG, low_memory=False).set_index('gene')"
   ]
  },
  {
   "cell_type": "code",
   "execution_count": null,
   "id": "e42e221e-a379-43ad-9303-2456d34e2b48",
   "metadata": {
    "execution": {
     "iopub.execute_input": "2025-02-25T09:04:44.307742Z",
     "iopub.status.busy": "2025-02-25T09:04:44.307587Z",
     "iopub.status.idle": "2025-02-25T09:04:44.309402Z",
     "shell.execute_reply": "2025-02-25T09:04:44.309098Z",
     "shell.execute_reply.started": "2025-02-25T09:04:44.307732Z"
    }
   },
   "outputs": [],
   "source": [
    "# create dict where each strain has a gene vector\n",
    "strain_vectors = {}"
   ]
  },
  {
   "cell_type": "code",
   "execution_count": null,
   "id": "b45f5d98",
   "metadata": {},
   "outputs": [],
   "source": [
    "from pyphylon.biointerp import get_pg_to_locus_map"
   ]
  },
  {
   "cell_type": "code",
   "execution_count": null,
   "id": "88a90df5",
   "metadata": {},
   "outputs": [],
   "source": [
    "pg2locus_map = get_pg_to_locus_map(WORKDIR, SPECIES)"
   ]
  },
  {
   "cell_type": "markdown",
   "id": "eedc465a-b810-4efd-b04a-efad4434d8eb",
   "metadata": {},
   "source": [
    "## Functions to Parse GFF"
   ]
  },
  {
   "cell_type": "markdown",
   "id": "219d5376-746d-42eb-8bb0-5ee2f705ea67",
   "metadata": {},
   "source": [
    "## Get vectors of genes and binarized vectors for each strain"
   ]
  },
  {
   "cell_type": "code",
   "execution_count": null,
   "id": "9bef68c0-1e9b-49f3-8377-e19738302327",
   "metadata": {
    "execution": {
     "iopub.execute_input": "2025-02-25T09:04:44.329455Z",
     "iopub.status.busy": "2025-02-25T09:04:44.329291Z",
     "iopub.status.idle": "2025-02-25T09:04:45.978605Z",
     "shell.execute_reply": "2025-02-25T09:04:45.978252Z",
     "shell.execute_reply.started": "2025-02-25T09:04:44.329446Z"
    }
   },
   "outputs": [],
   "source": [
    "for strain in tqdm(metadata_complete.genome_id):\n",
    "    DF_gff, size, oric = gff2pandas(os.path.join(WORKDIR, f'processed/bakta/{strain}/{strain}.gff3'))\n",
    "    #DF_gff['gene'] = DF_gff.locus_tag.apply(lambda x: h2a(x, header_to_allele))\n",
    "    DF_gff = pd.merge(DF_gff, pg2locus_map, left_on='locus_tag', right_on='gene_id', how='left')\n",
    "    DF_gff.rename(columns={'cluster':'gene'}, inplace=True)\n",
    "    DF_gff = DF_gff[DF_gff.accession == DF_gff.accession.value_counts().index[0]]\n",
    "    DF_gff = DF_gff[['gene','start']]\n",
    "    gene_order = (DF_gff.sort_values('start').gene.to_list())\n",
    " \n",
    "    strain_vectors[strain] = gene_order"
   ]
  },
  {
   "cell_type": "code",
   "execution_count": null,
   "id": "85f2f834-4682-4c44-8690-8f542742ab97",
   "metadata": {
    "execution": {
     "iopub.execute_input": "2025-02-25T09:04:45.979133Z",
     "iopub.status.busy": "2025-02-25T09:04:45.979016Z",
     "iopub.status.idle": "2025-02-25T09:04:45.981602Z",
     "shell.execute_reply": "2025-02-25T09:04:45.981361Z",
     "shell.execute_reply.started": "2025-02-25T09:04:45.979122Z"
    }
   },
   "outputs": [],
   "source": [
    "len(strain_vectors[REFERENCE_STRAIN])"
   ]
  },
  {
   "cell_type": "code",
   "execution_count": null,
   "id": "3b60e8a0-3aa1-4f8d-a8eb-06f5d786ff3b",
   "metadata": {
    "execution": {
     "iopub.execute_input": "2025-02-25T09:04:45.982079Z",
     "iopub.status.busy": "2025-02-25T09:04:45.981889Z",
     "iopub.status.idle": "2025-02-25T09:04:46.048513Z",
     "shell.execute_reply": "2025-02-25T09:04:46.048171Z",
     "shell.execute_reply.started": "2025-02-25T09:04:45.982069Z"
    }
   },
   "outputs": [],
   "source": [
    "# Collect lengths of gene lists\n",
    "gene_lengths = [len(genes) for genes in strain_vectors.values()]\n",
    "\n",
    "# Creating the histogram\n",
    "plt.hist(gene_lengths, bins=10, color='blue', edgecolor='black')\n",
    "\n",
    "# Adding titles and labels\n",
    "plt.title('Distribution of Gene Lengths')\n",
    "plt.xlabel('Gene Length')\n",
    "plt.ylabel('Frequency')\n",
    "\n",
    "# Display the histogram\n",
    "plt.show()"
   ]
  },
  {
   "cell_type": "code",
   "execution_count": null,
   "id": "f986fc51-df30-48a7-a24e-576f614cdd47",
   "metadata": {
    "execution": {
     "iopub.execute_input": "2025-02-25T09:04:46.048924Z",
     "iopub.status.busy": "2025-02-25T09:04:46.048823Z",
     "iopub.status.idle": "2025-02-25T09:04:46.050859Z",
     "shell.execute_reply": "2025-02-25T09:04:46.050568Z",
     "shell.execute_reply.started": "2025-02-25T09:04:46.048915Z"
    }
   },
   "outputs": [],
   "source": [
    "# Optional\n",
    "# Create a new dictionary with strains having less than or equal to 6000 genes\n",
    "strain_vectors_filtered = {strain: genes for strain, genes in strain_vectors.items() if len(genes) <= 6000}"
   ]
  },
  {
   "cell_type": "markdown",
   "id": "ec7994d2-32cb-4b71-8147-85040652a5fc",
   "metadata": {},
   "source": [
    "## Find the genes shared between all srains and test them if they are in a certain order"
   ]
  },
  {
   "cell_type": "code",
   "execution_count": null,
   "id": "ff00c160-dc8a-4f75-8d33-d98429eb82be",
   "metadata": {
    "execution": {
     "iopub.execute_input": "2025-02-25T09:04:46.051413Z",
     "iopub.status.busy": "2025-02-25T09:04:46.051157Z",
     "iopub.status.idle": "2025-02-25T09:04:46.692795Z",
     "shell.execute_reply": "2025-02-25T09:04:46.692454Z",
     "shell.execute_reply.started": "2025-02-25T09:04:46.051403Z"
    },
    "scrolled": true
   },
   "outputs": [],
   "source": [
    "common_gene_counts_df = count_common_gene_appearances(strain_vectors_filtered)\n",
    "common_gene_counts_df"
   ]
  },
  {
   "cell_type": "code",
   "execution_count": null,
   "id": "f3214eea-1072-4d41-a9dc-13828fb9a227",
   "metadata": {
    "execution": {
     "iopub.execute_input": "2025-02-25T09:04:46.693208Z",
     "iopub.status.busy": "2025-02-25T09:04:46.693104Z",
     "iopub.status.idle": "2025-02-25T09:04:46.768546Z",
     "shell.execute_reply": "2025-02-25T09:04:46.768209Z",
     "shell.execute_reply.started": "2025-02-25T09:04:46.693197Z"
    }
   },
   "outputs": [],
   "source": [
    "common_gene_counts_df.sum(axis = 1).hist()"
   ]
  },
  {
   "cell_type": "code",
   "execution_count": null,
   "id": "7704dcf1-eed3-48e8-9288-b1653440f112",
   "metadata": {
    "execution": {
     "iopub.execute_input": "2025-02-25T09:04:46.768956Z",
     "iopub.status.busy": "2025-02-25T09:04:46.768854Z",
     "iopub.status.idle": "2025-02-25T09:04:46.772248Z",
     "shell.execute_reply": "2025-02-25T09:04:46.771967Z",
     "shell.execute_reply.started": "2025-02-25T09:04:46.768946Z"
    },
    "scrolled": true
   },
   "outputs": [],
   "source": [
    "common_gene_counts_df.sum(axis = 1)"
   ]
  },
  {
   "cell_type": "code",
   "execution_count": null,
   "id": "507a3390-f01e-4ad0-8794-dc0275a2e209",
   "metadata": {
    "execution": {
     "iopub.execute_input": "2025-02-25T09:04:46.774542Z",
     "iopub.status.busy": "2025-02-25T09:04:46.774350Z",
     "iopub.status.idle": "2025-02-25T09:04:47.453328Z",
     "shell.execute_reply": "2025-02-25T09:04:47.453036Z",
     "shell.execute_reply.started": "2025-02-25T09:04:46.774531Z"
    }
   },
   "outputs": [],
   "source": [
    "common_gene_count, once_gene_count, once_genes = find_once_genes(strain_vectors_filtered)\n",
    "print(f\"Number of common genes: {common_gene_count}\")\n",
    "print(f\"Number of genes that appear exactly once in each strain: {once_gene_count}\")"
   ]
  },
  {
   "cell_type": "code",
   "execution_count": null,
   "id": "9a5f6c2e-eb52-4415-a9f4-dac38f8cc6e1",
   "metadata": {
    "execution": {
     "iopub.execute_input": "2025-02-25T09:04:47.453730Z",
     "iopub.status.busy": "2025-02-25T09:04:47.453613Z",
     "iopub.status.idle": "2025-02-25T09:04:56.275302Z",
     "shell.execute_reply": "2025-02-25T09:04:56.274920Z",
     "shell.execute_reply.started": "2025-02-25T09:04:47.453719Z"
    },
    "scrolled": true
   },
   "outputs": [],
   "source": [
    "strain_groups = create_strain_groups(strain_vectors_filtered, once_genes, REFERENCE_STRAIN)"
   ]
  },
  {
   "cell_type": "code",
   "execution_count": null,
   "id": "ff436fe9-73be-4e36-9130-2fe92efc5810",
   "metadata": {
    "execution": {
     "iopub.execute_input": "2025-02-25T09:04:56.275786Z",
     "iopub.status.busy": "2025-02-25T09:04:56.275670Z",
     "iopub.status.idle": "2025-02-25T09:04:56.277765Z",
     "shell.execute_reply": "2025-02-25T09:04:56.277484Z",
     "shell.execute_reply.started": "2025-02-25T09:04:56.275775Z"
    }
   },
   "outputs": [],
   "source": [
    "# largest Group\n",
    "largest_group_of_strains = max(strain_groups, key=lambda k: len(strain_groups[k]))"
   ]
  },
  {
   "cell_type": "code",
   "execution_count": null,
   "id": "fb0bd4e1-ea60-4446-bf1b-6d408f06c45f",
   "metadata": {
    "execution": {
     "iopub.execute_input": "2025-02-25T09:04:56.278181Z",
     "iopub.status.busy": "2025-02-25T09:04:56.278059Z",
     "iopub.status.idle": "2025-02-25T09:04:56.289441Z",
     "shell.execute_reply": "2025-02-25T09:04:56.289161Z",
     "shell.execute_reply.started": "2025-02-25T09:04:56.278167Z"
    }
   },
   "outputs": [],
   "source": [
    "len(strain_groups[largest_group_of_strains])"
   ]
  },
  {
   "cell_type": "code",
   "execution_count": null,
   "id": "2bc3913c-c442-48b0-ad92-72c8bc59190b",
   "metadata": {
    "execution": {
     "iopub.execute_input": "2025-02-25T09:04:56.289900Z",
     "iopub.status.busy": "2025-02-25T09:04:56.289798Z",
     "iopub.status.idle": "2025-02-25T09:04:56.291794Z",
     "shell.execute_reply": "2025-02-25T09:04:56.291515Z",
     "shell.execute_reply.started": "2025-02-25T09:04:56.289891Z"
    }
   },
   "outputs": [],
   "source": [
    "strain_vectors_reference = {k: strain_vectors_filtered[k] for k in strain_groups[largest_group_of_strains] if k in strain_vectors_filtered}"
   ]
  },
  {
   "cell_type": "markdown",
   "id": "09ebb72d-537b-439b-960e-b7d41fab1ef7",
   "metadata": {},
   "source": [
    "## Use the largest group as reference for the order of anchor genes"
   ]
  },
  {
   "cell_type": "code",
   "execution_count": null,
   "id": "c904b087-0226-47fc-a02b-b4a14fa7f260",
   "metadata": {
    "execution": {
     "iopub.execute_input": "2025-02-25T09:04:56.292340Z",
     "iopub.status.busy": "2025-02-25T09:04:56.292093Z",
     "iopub.status.idle": "2025-02-25T09:04:56.299982Z",
     "shell.execute_reply": "2025-02-25T09:04:56.299713Z",
     "shell.execute_reply.started": "2025-02-25T09:04:56.292330Z"
    },
    "scrolled": true
   },
   "outputs": [],
   "source": [
    "reference_ordered_genes = get_reference_order(strain_vectors_reference, once_genes)"
   ]
  },
  {
   "cell_type": "code",
   "execution_count": null,
   "id": "d54e2f32-ebd9-45fe-8fd1-aa6f79ec8e55",
   "metadata": {
    "execution": {
     "iopub.execute_input": "2025-02-25T09:04:56.300455Z",
     "iopub.status.busy": "2025-02-25T09:04:56.300288Z",
     "iopub.status.idle": "2025-02-25T09:04:56.302406Z",
     "shell.execute_reply": "2025-02-25T09:04:56.302067Z",
     "shell.execute_reply.started": "2025-02-25T09:04:56.300444Z"
    },
    "scrolled": true
   },
   "outputs": [],
   "source": [
    "print(reference_ordered_genes)"
   ]
  },
  {
   "cell_type": "markdown",
   "id": "dea1ec29-345d-4054-b9c2-27c8436b5fda",
   "metadata": {},
   "source": [
    "## Named these genes from 1 to N"
   ]
  },
  {
   "cell_type": "code",
   "execution_count": null,
   "id": "86a4cc44-db91-4a95-ac71-e0c1e3f3ffc2",
   "metadata": {
    "execution": {
     "iopub.execute_input": "2025-02-25T09:04:56.302791Z",
     "iopub.status.busy": "2025-02-25T09:04:56.302686Z",
     "iopub.status.idle": "2025-02-25T09:04:56.304599Z",
     "shell.execute_reply": "2025-02-25T09:04:56.304316Z",
     "shell.execute_reply.started": "2025-02-25T09:04:56.302781Z"
    }
   },
   "outputs": [],
   "source": [
    "# Creating the mapping dictionary\n",
    "gene_mapping = {gene: idx for idx, gene in enumerate(reference_ordered_genes, start=1)}"
   ]
  },
  {
   "cell_type": "code",
   "execution_count": null,
   "id": "79463b26-de92-4ded-9e7f-b5e01e54e121",
   "metadata": {
    "execution": {
     "iopub.execute_input": "2025-02-25T09:04:56.304999Z",
     "iopub.status.busy": "2025-02-25T09:04:56.304902Z",
     "iopub.status.idle": "2025-02-25T09:04:56.307195Z",
     "shell.execute_reply": "2025-02-25T09:04:56.306936Z",
     "shell.execute_reply.started": "2025-02-25T09:04:56.304989Z"
    }
   },
   "outputs": [],
   "source": [
    "len(gene_mapping.keys())"
   ]
  },
  {
   "cell_type": "code",
   "execution_count": null,
   "id": "818e514a-41a5-4adc-98e9-09cdf9e78266",
   "metadata": {
    "execution": {
     "iopub.execute_input": "2025-02-25T09:04:56.307565Z",
     "iopub.status.busy": "2025-02-25T09:04:56.307470Z",
     "iopub.status.idle": "2025-02-25T09:04:56.313002Z",
     "shell.execute_reply": "2025-02-25T09:04:56.312715Z",
     "shell.execute_reply.started": "2025-02-25T09:04:56.307555Z"
    }
   },
   "outputs": [],
   "source": [
    "# Apply the mapping to strain_vectors_filtered, keep unmapped genes unchanged\n",
    "updated_strain_vectors = {}\n",
    "for strain, genes in strain_vectors_filtered.items():\n",
    "    updated_genes = [gene_mapping.get(gene, gene) for gene in genes]  # Use .get() to return the gene itself if not found\n",
    "    updated_strain_vectors[strain] = updated_genes"
   ]
  },
  {
   "cell_type": "code",
   "execution_count": null,
   "id": "8176b5ca-e550-4f88-87c7-c5e4e0443683",
   "metadata": {
    "execution": {
     "iopub.execute_input": "2025-02-25T09:04:56.313401Z",
     "iopub.status.busy": "2025-02-25T09:04:56.313300Z",
     "iopub.status.idle": "2025-02-25T09:04:56.319817Z",
     "shell.execute_reply": "2025-02-25T09:04:56.319529Z",
     "shell.execute_reply.started": "2025-02-25T09:04:56.313391Z"
    }
   },
   "outputs": [],
   "source": [
    "strain_vectors_reordered, count_reversed = adjust_gene_order(updated_strain_vectors)\n",
    "print(\"Number of strains reordered:\", count_reversed)"
   ]
  },
  {
   "cell_type": "code",
   "execution_count": null,
   "id": "630493ef-2fb9-463f-ad17-2540a0bf769e",
   "metadata": {
    "execution": {
     "iopub.execute_input": "2025-02-25T09:04:56.320212Z",
     "iopub.status.busy": "2025-02-25T09:04:56.320112Z",
     "iopub.status.idle": "2025-02-25T09:04:56.322453Z",
     "shell.execute_reply": "2025-02-25T09:04:56.322148Z",
     "shell.execute_reply.started": "2025-02-25T09:04:56.320202Z"
    }
   },
   "outputs": [],
   "source": [
    "strain_vectors_final, count_reordered = reorder_to_start_with_one(strain_vectors_reordered)\n",
    "print(\"Number of strains reordered:\", count_reordered)"
   ]
  },
  {
   "cell_type": "code",
   "execution_count": null,
   "id": "9856bf8e-3df9-41d6-a5dc-3f5c79a24abf",
   "metadata": {
    "execution": {
     "iopub.execute_input": "2025-02-25T09:04:56.322844Z",
     "iopub.status.busy": "2025-02-25T09:04:56.322745Z",
     "iopub.status.idle": "2025-02-25T09:04:56.325839Z",
     "shell.execute_reply": "2025-02-25T09:04:56.325547Z",
     "shell.execute_reply.started": "2025-02-25T09:04:56.322834Z"
    }
   },
   "outputs": [],
   "source": [
    "strain_vectors_final[list(strain_vectors_final.keys())[0]][:20]"
   ]
  },
  {
   "cell_type": "code",
   "execution_count": null,
   "id": "4335718c-9e83-4ddb-b189-ec291a5d0d47",
   "metadata": {
    "execution": {
     "iopub.execute_input": "2025-02-25T09:04:56.326248Z",
     "iopub.status.busy": "2025-02-25T09:04:56.326115Z",
     "iopub.status.idle": "2025-02-25T09:04:56.331443Z",
     "shell.execute_reply": "2025-02-25T09:04:56.331189Z",
     "shell.execute_reply.started": "2025-02-25T09:04:56.326235Z"
    }
   },
   "outputs": [],
   "source": [
    "sequence_check_results, total_true, total_false = check_strict_sequence(strain_vectors_final)\n",
    "print(\"Number of strains correctly ordered:\", total_true)\n",
    "print(\"Number of strains with other orders:\", total_false)"
   ]
  },
  {
   "cell_type": "markdown",
   "id": "0b5cd3d3-1e11-4f6b-b14a-a3e00171cc46",
   "metadata": {},
   "source": [
    "## Create gene location name for all the other genes"
   ]
  },
  {
   "cell_type": "code",
   "execution_count": null,
   "id": "96371795-053b-4b31-9018-7c7b4a998b89",
   "metadata": {
    "execution": {
     "iopub.execute_input": "2025-02-25T09:04:56.331794Z",
     "iopub.status.busy": "2025-02-25T09:04:56.331697Z",
     "iopub.status.idle": "2025-02-25T09:04:58.937752Z",
     "shell.execute_reply": "2025-02-25T09:04:58.937418Z",
     "shell.execute_reply.started": "2025-02-25T09:04:56.331785Z"
    }
   },
   "outputs": [],
   "source": [
    "gene_mapping_to_anchor_genes = generate_gene_names(strain_vectors_final)"
   ]
  },
  {
   "cell_type": "code",
   "execution_count": null,
   "id": "83921f91-fbf4-477d-b39c-bebc5c1e8947",
   "metadata": {
    "execution": {
     "iopub.execute_input": "2025-02-25T09:04:58.938214Z",
     "iopub.status.busy": "2025-02-25T09:04:58.938083Z",
     "iopub.status.idle": "2025-02-25T09:04:58.942214Z",
     "shell.execute_reply": "2025-02-25T09:04:58.941953Z",
     "shell.execute_reply.started": "2025-02-25T09:04:58.938200Z"
    }
   },
   "outputs": [],
   "source": [
    "gene_mapping_to_anchor_genes[REFERENCE_STRAIN][gene_mapping_to_anchor_genes[REFERENCE_STRAIN] != 'NA'].sort_values()"
   ]
  },
  {
   "cell_type": "code",
   "execution_count": null,
   "id": "a2366979-bb9d-4f6d-88d9-454a111d7dc1",
   "metadata": {
    "execution": {
     "iopub.execute_input": "2025-02-25T09:04:58.942672Z",
     "iopub.status.busy": "2025-02-25T09:04:58.942501Z",
     "iopub.status.idle": "2025-02-25T09:04:59.009124Z",
     "shell.execute_reply": "2025-02-25T09:04:59.008822Z",
     "shell.execute_reply.started": "2025-02-25T09:04:58.942662Z"
    }
   },
   "outputs": [],
   "source": [
    "gene_count_between_anchor_genes_all = create_gene_count_between_anchor_genes_for_all(gene_mapping_to_anchor_genes)"
   ]
  },
  {
   "cell_type": "code",
   "execution_count": null,
   "id": "568a922e-b038-45a7-9214-d25aceb328bb",
   "metadata": {
    "execution": {
     "iopub.execute_input": "2025-02-25T09:04:59.009481Z",
     "iopub.status.busy": "2025-02-25T09:04:59.009384Z",
     "iopub.status.idle": "2025-02-25T09:04:59.012069Z",
     "shell.execute_reply": "2025-02-25T09:04:59.011801Z",
     "shell.execute_reply.started": "2025-02-25T09:04:59.009472Z"
    }
   },
   "outputs": [],
   "source": [
    "gene_count_between_anchor_genes_all[REFERENCE_STRAIN]['Total Genes Between'].sum()"
   ]
  },
  {
   "cell_type": "code",
   "execution_count": null,
   "id": "b1a37ea8-44aa-4b61-8534-2a6e77493193",
   "metadata": {
    "execution": {
     "iopub.execute_input": "2025-02-25T09:04:59.012472Z",
     "iopub.status.busy": "2025-02-25T09:04:59.012374Z",
     "iopub.status.idle": "2025-02-25T09:04:59.018191Z",
     "shell.execute_reply": "2025-02-25T09:04:59.017910Z",
     "shell.execute_reply.started": "2025-02-25T09:04:59.012463Z"
    },
    "scrolled": true
   },
   "outputs": [],
   "source": [
    "## Test if there are any missing pairs - NO Genes between these two genes\n",
    "pairs = gene_count_between_anchor_genes_all[REFERENCE_STRAIN]['Anchor Genes']\n",
    "\n",
    "# Generate the full list of expected pairs\n",
    "expected_pairs = [f\"{i}-{i+1}\" for i in range(1, len(once_genes))]\n",
    "\n",
    "# Find missing pairs by checking which expected pairs are not in the dataset\n",
    "missing_pairs = set(expected_pairs) - set(pairs)\n",
    "missing_pairs = sorted(list(missing_pairs), key=lambda x: int(x.split('-')[0]))\n",
    "\n",
    "# Output the missing pairs\n",
    "missing_pairs"
   ]
  },
  {
   "cell_type": "markdown",
   "id": "a53edd1b-461f-4005-a6fc-8a225bbd40ca",
   "metadata": {},
   "source": [
    "## Identify the genetic variation in each strain"
   ]
  },
  {
   "cell_type": "code",
   "execution_count": null,
   "id": "9eb5c100-2258-4005-828f-1abf4d3514ca",
   "metadata": {
    "execution": {
     "iopub.execute_input": "2025-02-25T09:04:59.028784Z",
     "iopub.status.busy": "2025-02-25T09:04:59.028684Z",
     "iopub.status.idle": "2025-02-25T09:04:59.037412Z",
     "shell.execute_reply": "2025-02-25T09:04:59.037111Z",
     "shell.execute_reply.started": "2025-02-25T09:04:59.028775Z"
    },
    "scrolled": true
   },
   "outputs": [],
   "source": [
    "identify_genetic_variation(strain_vectors_final)"
   ]
  },
  {
   "cell_type": "markdown",
   "id": "375a0486-5642-465e-895a-220515378bd7",
   "metadata": {},
   "source": [
    "## Location of the phylon"
   ]
  },
  {
   "cell_type": "code",
   "execution_count": null,
   "id": "d64e2472-241d-4587-a3ea-74425e61b278",
   "metadata": {
    "execution": {
     "iopub.execute_input": "2025-02-25T09:04:59.048578Z",
     "iopub.status.busy": "2025-02-25T09:04:59.048476Z",
     "iopub.status.idle": "2025-02-25T09:04:59.050658Z",
     "shell.execute_reply": "2025-02-25T09:04:59.050376Z",
     "shell.execute_reply.started": "2025-02-25T09:04:59.048568Z"
    }
   },
   "outputs": [],
   "source": [
    "def rename_indexes(df: pd.DataFrame) -> pd.DataFrame:\n",
    "    \"\"\"\n",
    "    Remove 'yogenes' from all occurrences in the index.\n",
    "    \n",
    "    Parameters:\n",
    "        df (pd.DataFrame): Input DataFrame with row indexes.\n",
    "    \n",
    "    Returns:\n",
    "        pd.DataFrame: DataFrame with updated indexes.\n",
    "    \"\"\"\n",
    "    df.index = df.index.str.replace('yogenes', '', regex=True)\n",
    "    return df"
   ]
  },
  {
   "cell_type": "code",
   "execution_count": null,
   "id": "e82edbd0-67e7-4c6c-b5b2-a2633da29ae3",
   "metadata": {
    "execution": {
     "iopub.execute_input": "2025-02-25T09:04:59.051051Z",
     "iopub.status.busy": "2025-02-25T09:04:59.050955Z",
     "iopub.status.idle": "2025-02-25T09:04:59.053275Z",
     "shell.execute_reply": "2025-02-25T09:04:59.053007Z",
     "shell.execute_reply.started": "2025-02-25T09:04:59.051042Z"
    }
   },
   "outputs": [],
   "source": [
    "L_binarized = rename_indexes(L_binarized)"
   ]
  },
  {
   "cell_type": "markdown",
   "id": "678df40c-91f6-49ec-955f-c14e5139bf22",
   "metadata": {},
   "source": [
    "## Circular plot for phylon location"
   ]
  },
  {
   "cell_type": "markdown",
   "id": "5d2282fc-4974-4922-a093-6b977c60cb81",
   "metadata": {},
   "source": [
    "### Test on MGE-2 location"
   ]
  },
  {
   "cell_type": "code",
   "execution_count": null,
   "id": "502b5bfb-938f-4138-8e61-dba34ab8930e",
   "metadata": {
    "execution": {
     "iopub.execute_input": "2025-02-25T09:08:24.080917Z",
     "iopub.status.busy": "2025-02-25T09:08:24.080312Z",
     "iopub.status.idle": "2025-02-25T09:08:24.579886Z",
     "shell.execute_reply": "2025-02-25T09:08:24.579497Z",
     "shell.execute_reply.started": "2025-02-25T09:08:24.080891Z"
    }
   },
   "outputs": [],
   "source": [
    "plot_circular_genome(strain_vectors_final['530008.3'], L_binarized.index[L_binarized['phylon1'] == 1].tolist(), 'phylon1', '530008.3')"
   ]
  },
  {
   "cell_type": "code",
   "execution_count": null,
   "id": "3222684b-083b-4a34-904f-f2b7a70bf3ad",
   "metadata": {
    "execution": {
     "iopub.execute_input": "2025-02-25T09:08:57.860765Z",
     "iopub.status.busy": "2025-02-25T09:08:57.860558Z",
     "iopub.status.idle": "2025-02-25T09:08:57.968011Z",
     "shell.execute_reply": "2025-02-25T09:08:57.967720Z",
     "shell.execute_reply.started": "2025-02-25T09:08:57.860751Z"
    }
   },
   "outputs": [],
   "source": [
    "unique_genes_dict = unique_genes_by_phylon(L_binarized)"
   ]
  },
  {
   "cell_type": "code",
   "execution_count": null,
   "id": "89827460",
   "metadata": {},
   "outputs": [],
   "source": []
  }
 ],
 "metadata": {
  "kernelspec": {
   "display_name": "pyphylon",
   "language": "python",
   "name": "python3"
  },
  "language_info": {
   "codemirror_mode": {
    "name": "ipython",
    "version": 3
   },
   "file_extension": ".py",
   "mimetype": "text/x-python",
   "name": "python",
   "nbconvert_exporter": "python",
   "pygments_lexer": "ipython3",
   "version": "3.11.11"
  }
 },
 "nbformat": 4,
 "nbformat_minor": 5
}
