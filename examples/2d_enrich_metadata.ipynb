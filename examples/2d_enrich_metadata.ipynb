{
 "cells": [
  {
   "cell_type": "code",
   "execution_count": null,
   "metadata": {},
   "outputs": [],
   "source": [
    "import os\n",
    "import pandas as pd\n",
    "\n",
    "from matplotlib import pyplot as plt\n",
    "import seaborn as sns\n",
    "\n",
    "from tqdm.notebook import tqdm\n",
    "from pyphylon.util import load_config"
   ]
  },
  {
   "cell_type": "code",
   "execution_count": null,
   "metadata": {},
   "outputs": [],
   "source": [
    "CONFIG = load_config(\"config.yml\")\n",
    "WORKDIR = CONFIG[\"WORKDIR\"]\n",
    "SPECIES = CONFIG[\"PG_NAME\"]"
   ]
  },
  {
   "cell_type": "code",
   "execution_count": null,
   "metadata": {},
   "outputs": [],
   "source": [
    "MLST = WORKDIR + 'processed/mlst_report.txt'\n",
    "METADATA = WORKDIR + 'interim/mash_scrubbed_species_metadata_2b.csv'"
   ]
  },
  {
   "cell_type": "code",
   "execution_count": null,
   "metadata": {},
   "outputs": [],
   "source": [
    "mlst = pd.read_csv(MLST, sep='\\t', header=None, dtype='object')\n",
    "\n",
    "# Add column names\n",
    "mlst.columns = [\n",
    "    'genome_id',\n",
    "    'schema',\n",
    "    'mlst',\n",
    "    'allele1',\n",
    "    'allele2',\n",
    "    'allele3',\n",
    "    'allele4',\n",
    "    'allele5',\n",
    "    'allele6',\n",
    "    'allele7']\n",
    "\n",
    "mlst['genome_id'] = mlst['genome_id'].str.split('/', expand=True)[3].str.replace('.fna', '')\n",
    "mlst"
   ]
  },
  {
   "cell_type": "markdown",
   "metadata": {},
   "source": [
    "# Enrich metadata\n",
    "\n",
    "For now, its just MLST. Add in other things as needed"
   ]
  },
  {
   "cell_type": "code",
   "execution_count": null,
   "metadata": {},
   "outputs": [],
   "source": [
    "mash_scrubbed_metadata = pd.read_csv(METADATA, index_col=0, dtype='object')\n",
    "\n",
    "display(\n",
    "    mash_scrubbed_metadata.shape,\n",
    "    mash_scrubbed_metadata.head()\n",
    ")\n",
    "# temp save mash scrubbed as enriched even tho we dont have mlst:\n",
    "#mash_scrubbed_metadata.to_csv('/mnt/craig/pan_phylon/Klebsiella/metadata/enriched_metadata.csv')"
   ]
  },
  {
   "cell_type": "code",
   "execution_count": null,
   "metadata": {},
   "outputs": [],
   "source": [
    "mash_scrubbed_metadata['mlst'] = None\n",
    "\n",
    "for idx in tqdm(mash_scrubbed_metadata.index):\n",
    "    genome_id = mash_scrubbed_metadata.loc[idx, 'genome_id']\n",
    "    mlst_value = mlst.set_index('genome_id').loc[f'{genome_id}', 'mlst']\n",
    "\n",
    "    # if non-exact mlst allele match, set to -1\n",
    "    if mlst_value == '-':\n",
    "        mlst_value = -1\n",
    "    \n",
    "    mash_scrubbed_metadata.loc[idx, 'mlst'] = mlst_value\n",
    "\n",
    "mash_scrubbed_metadata.head()"
   ]
  },
  {
   "cell_type": "code",
   "execution_count": null,
   "metadata": {},
   "outputs": [],
   "source": [
    "mash_scrubbed_metadata"
   ]
  },
  {
   "cell_type": "code",
   "execution_count": null,
   "metadata": {},
   "outputs": [],
   "source": [
    "mash_scrubbed_metadata.to_csv(os.path.join(WORKDIR, 'interim/enriched_metadata_2d.csv'))"
   ]
  },
  {
   "cell_type": "code",
   "execution_count": null,
   "metadata": {},
   "outputs": [],
   "source": []
  },
  {
   "cell_type": "code",
   "execution_count": null,
   "metadata": {},
   "outputs": [],
   "source": []
  }
 ],
 "metadata": {
  "kernelspec": {
   "display_name": "pyphylon",
   "language": "python",
   "name": "python3"
  },
  "language_info": {
   "codemirror_mode": {
    "name": "ipython",
    "version": 3
   },
   "file_extension": ".py",
   "mimetype": "text/x-python",
   "name": "python",
   "nbconvert_exporter": "python",
   "pygments_lexer": "ipython3",
   "version": "3.11.11"
  }
 },
 "nbformat": 4,
 "nbformat_minor": 2
}
